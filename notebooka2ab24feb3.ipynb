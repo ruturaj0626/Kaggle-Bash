{
 "cells": [
  {
   "cell_type": "code",
   "execution_count": 1,
   "id": "1db4ae7e",
   "metadata": {
    "_cell_guid": "b1076dfc-b9ad-4769-8c92-a6c4dae69d19",
    "_uuid": "8f2839f25d086af736a60e9eeb907d3b93b6e0e5",
    "execution": {
     "iopub.execute_input": "2023-12-24T01:59:29.207058Z",
     "iopub.status.busy": "2023-12-24T01:59:29.206671Z",
     "iopub.status.idle": "2023-12-24T01:59:30.007959Z",
     "shell.execute_reply": "2023-12-24T01:59:30.006890Z"
    },
    "papermill": {
     "duration": 0.813351,
     "end_time": "2023-12-24T01:59:30.010457",
     "exception": false,
     "start_time": "2023-12-24T01:59:29.197106",
     "status": "completed"
    },
    "tags": []
   },
   "outputs": [
    {
     "name": "stdout",
     "output_type": "stream",
     "text": [
      "/kaggle/input/credit-card-customer-churn-prediction/Churn_Modelling.csv\n"
     ]
    }
   ],
   "source": [
    "# This Python 3 environment comes with many helpful analytics libraries installed\n",
    "# It is defined by the kaggle/python Docker image: https://github.com/kaggle/docker-python\n",
    "# For example, here's several helpful packages to load\n",
    "\n",
    "import numpy as np # linear algebra\n",
    "import pandas as pd # data processing, CSV file I/O (e.g. pd.read_csv)\n",
    "\n",
    "# Input data files are available in the read-only \"../input/\" directory\n",
    "# For example, running this (by clicking run or pressing Shift+Enter) will list all files under the input directory\n",
    "\n",
    "import os\n",
    "for dirname, _, filenames in os.walk('/kaggle/input'):\n",
    "    for filename in filenames:\n",
    "        print(os.path.join(dirname, filename))\n",
    "\n",
    "# You can write up to 20GB to the current directory (/kaggle/working/) that gets preserved as output when you create a version using \"Save & Run All\" \n",
    "# You can also write temporary files to /kaggle/temp/, but they won't be saved outside of the current session"
   ]
  },
  {
   "cell_type": "code",
   "execution_count": 2,
   "id": "5da00646",
   "metadata": {
    "execution": {
     "iopub.execute_input": "2023-12-24T01:59:30.030108Z",
     "iopub.status.busy": "2023-12-24T01:59:30.029677Z",
     "iopub.status.idle": "2023-12-24T01:59:30.075252Z",
     "shell.execute_reply": "2023-12-24T01:59:30.074534Z"
    },
    "papermill": {
     "duration": 0.056688,
     "end_time": "2023-12-24T01:59:30.077154",
     "exception": false,
     "start_time": "2023-12-24T01:59:30.020466",
     "status": "completed"
    },
    "tags": []
   },
   "outputs": [],
   "source": [
    "df = pd.read_csv('/kaggle/input/credit-card-customer-churn-prediction/Churn_Modelling.csv')"
   ]
  },
  {
   "cell_type": "code",
   "execution_count": 3,
   "id": "d93b0bb9",
   "metadata": {
    "execution": {
     "iopub.execute_input": "2023-12-24T01:59:30.093248Z",
     "iopub.status.busy": "2023-12-24T01:59:30.092728Z",
     "iopub.status.idle": "2023-12-24T01:59:30.116434Z",
     "shell.execute_reply": "2023-12-24T01:59:30.115609Z"
    },
    "papermill": {
     "duration": 0.033755,
     "end_time": "2023-12-24T01:59:30.118327",
     "exception": false,
     "start_time": "2023-12-24T01:59:30.084572",
     "status": "completed"
    },
    "tags": []
   },
   "outputs": [
    {
     "data": {
      "text/html": [
       "<div>\n",
       "<style scoped>\n",
       "    .dataframe tbody tr th:only-of-type {\n",
       "        vertical-align: middle;\n",
       "    }\n",
       "\n",
       "    .dataframe tbody tr th {\n",
       "        vertical-align: top;\n",
       "    }\n",
       "\n",
       "    .dataframe thead th {\n",
       "        text-align: right;\n",
       "    }\n",
       "</style>\n",
       "<table border=\"1\" class=\"dataframe\">\n",
       "  <thead>\n",
       "    <tr style=\"text-align: right;\">\n",
       "      <th></th>\n",
       "      <th>RowNumber</th>\n",
       "      <th>CustomerId</th>\n",
       "      <th>Surname</th>\n",
       "      <th>CreditScore</th>\n",
       "      <th>Geography</th>\n",
       "      <th>Gender</th>\n",
       "      <th>Age</th>\n",
       "      <th>Tenure</th>\n",
       "      <th>Balance</th>\n",
       "      <th>NumOfProducts</th>\n",
       "      <th>HasCrCard</th>\n",
       "      <th>IsActiveMember</th>\n",
       "      <th>EstimatedSalary</th>\n",
       "      <th>Exited</th>\n",
       "    </tr>\n",
       "  </thead>\n",
       "  <tbody>\n",
       "    <tr>\n",
       "      <th>0</th>\n",
       "      <td>1</td>\n",
       "      <td>15634602</td>\n",
       "      <td>Hargrave</td>\n",
       "      <td>619</td>\n",
       "      <td>France</td>\n",
       "      <td>Female</td>\n",
       "      <td>42</td>\n",
       "      <td>2</td>\n",
       "      <td>0.00</td>\n",
       "      <td>1</td>\n",
       "      <td>1</td>\n",
       "      <td>1</td>\n",
       "      <td>101348.88</td>\n",
       "      <td>1</td>\n",
       "    </tr>\n",
       "    <tr>\n",
       "      <th>1</th>\n",
       "      <td>2</td>\n",
       "      <td>15647311</td>\n",
       "      <td>Hill</td>\n",
       "      <td>608</td>\n",
       "      <td>Spain</td>\n",
       "      <td>Female</td>\n",
       "      <td>41</td>\n",
       "      <td>1</td>\n",
       "      <td>83807.86</td>\n",
       "      <td>1</td>\n",
       "      <td>0</td>\n",
       "      <td>1</td>\n",
       "      <td>112542.58</td>\n",
       "      <td>0</td>\n",
       "    </tr>\n",
       "    <tr>\n",
       "      <th>2</th>\n",
       "      <td>3</td>\n",
       "      <td>15619304</td>\n",
       "      <td>Onio</td>\n",
       "      <td>502</td>\n",
       "      <td>France</td>\n",
       "      <td>Female</td>\n",
       "      <td>42</td>\n",
       "      <td>8</td>\n",
       "      <td>159660.80</td>\n",
       "      <td>3</td>\n",
       "      <td>1</td>\n",
       "      <td>0</td>\n",
       "      <td>113931.57</td>\n",
       "      <td>1</td>\n",
       "    </tr>\n",
       "    <tr>\n",
       "      <th>3</th>\n",
       "      <td>4</td>\n",
       "      <td>15701354</td>\n",
       "      <td>Boni</td>\n",
       "      <td>699</td>\n",
       "      <td>France</td>\n",
       "      <td>Female</td>\n",
       "      <td>39</td>\n",
       "      <td>1</td>\n",
       "      <td>0.00</td>\n",
       "      <td>2</td>\n",
       "      <td>0</td>\n",
       "      <td>0</td>\n",
       "      <td>93826.63</td>\n",
       "      <td>0</td>\n",
       "    </tr>\n",
       "    <tr>\n",
       "      <th>4</th>\n",
       "      <td>5</td>\n",
       "      <td>15737888</td>\n",
       "      <td>Mitchell</td>\n",
       "      <td>850</td>\n",
       "      <td>Spain</td>\n",
       "      <td>Female</td>\n",
       "      <td>43</td>\n",
       "      <td>2</td>\n",
       "      <td>125510.82</td>\n",
       "      <td>1</td>\n",
       "      <td>1</td>\n",
       "      <td>1</td>\n",
       "      <td>79084.10</td>\n",
       "      <td>0</td>\n",
       "    </tr>\n",
       "  </tbody>\n",
       "</table>\n",
       "</div>"
      ],
      "text/plain": [
       "   RowNumber  CustomerId   Surname  CreditScore Geography  Gender  Age  \\\n",
       "0          1    15634602  Hargrave          619    France  Female   42   \n",
       "1          2    15647311      Hill          608     Spain  Female   41   \n",
       "2          3    15619304      Onio          502    France  Female   42   \n",
       "3          4    15701354      Boni          699    France  Female   39   \n",
       "4          5    15737888  Mitchell          850     Spain  Female   43   \n",
       "\n",
       "   Tenure    Balance  NumOfProducts  HasCrCard  IsActiveMember  \\\n",
       "0       2       0.00              1          1               1   \n",
       "1       1   83807.86              1          0               1   \n",
       "2       8  159660.80              3          1               0   \n",
       "3       1       0.00              2          0               0   \n",
       "4       2  125510.82              1          1               1   \n",
       "\n",
       "   EstimatedSalary  Exited  \n",
       "0        101348.88       1  \n",
       "1        112542.58       0  \n",
       "2        113931.57       1  \n",
       "3         93826.63       0  \n",
       "4         79084.10       0  "
      ]
     },
     "execution_count": 3,
     "metadata": {},
     "output_type": "execute_result"
    }
   ],
   "source": [
    "df.head()"
   ]
  },
  {
   "cell_type": "code",
   "execution_count": 4,
   "id": "81f9a04b",
   "metadata": {
    "execution": {
     "iopub.execute_input": "2023-12-24T01:59:30.135889Z",
     "iopub.status.busy": "2023-12-24T01:59:30.135125Z",
     "iopub.status.idle": "2023-12-24T01:59:30.147946Z",
     "shell.execute_reply": "2023-12-24T01:59:30.147077Z"
    },
    "papermill": {
     "duration": 0.023392,
     "end_time": "2023-12-24T01:59:30.149907",
     "exception": false,
     "start_time": "2023-12-24T01:59:30.126515",
     "status": "completed"
    },
    "tags": []
   },
   "outputs": [],
   "source": [
    "df.drop(columns=['RowNumber','CustomerId','Surname'],inplace=True)"
   ]
  },
  {
   "cell_type": "code",
   "execution_count": 5,
   "id": "664ee1bb",
   "metadata": {
    "execution": {
     "iopub.execute_input": "2023-12-24T01:59:30.166997Z",
     "iopub.status.busy": "2023-12-24T01:59:30.166435Z",
     "iopub.status.idle": "2023-12-24T01:59:30.179274Z",
     "shell.execute_reply": "2023-12-24T01:59:30.178397Z"
    },
    "papermill": {
     "duration": 0.023544,
     "end_time": "2023-12-24T01:59:30.181198",
     "exception": false,
     "start_time": "2023-12-24T01:59:30.157654",
     "status": "completed"
    },
    "tags": []
   },
   "outputs": [
    {
     "data": {
      "text/html": [
       "<div>\n",
       "<style scoped>\n",
       "    .dataframe tbody tr th:only-of-type {\n",
       "        vertical-align: middle;\n",
       "    }\n",
       "\n",
       "    .dataframe tbody tr th {\n",
       "        vertical-align: top;\n",
       "    }\n",
       "\n",
       "    .dataframe thead th {\n",
       "        text-align: right;\n",
       "    }\n",
       "</style>\n",
       "<table border=\"1\" class=\"dataframe\">\n",
       "  <thead>\n",
       "    <tr style=\"text-align: right;\">\n",
       "      <th></th>\n",
       "      <th>CreditScore</th>\n",
       "      <th>Geography</th>\n",
       "      <th>Gender</th>\n",
       "      <th>Age</th>\n",
       "      <th>Tenure</th>\n",
       "      <th>Balance</th>\n",
       "      <th>NumOfProducts</th>\n",
       "      <th>HasCrCard</th>\n",
       "      <th>IsActiveMember</th>\n",
       "      <th>EstimatedSalary</th>\n",
       "      <th>Exited</th>\n",
       "    </tr>\n",
       "  </thead>\n",
       "  <tbody>\n",
       "    <tr>\n",
       "      <th>0</th>\n",
       "      <td>619</td>\n",
       "      <td>France</td>\n",
       "      <td>Female</td>\n",
       "      <td>42</td>\n",
       "      <td>2</td>\n",
       "      <td>0.00</td>\n",
       "      <td>1</td>\n",
       "      <td>1</td>\n",
       "      <td>1</td>\n",
       "      <td>101348.88</td>\n",
       "      <td>1</td>\n",
       "    </tr>\n",
       "    <tr>\n",
       "      <th>1</th>\n",
       "      <td>608</td>\n",
       "      <td>Spain</td>\n",
       "      <td>Female</td>\n",
       "      <td>41</td>\n",
       "      <td>1</td>\n",
       "      <td>83807.86</td>\n",
       "      <td>1</td>\n",
       "      <td>0</td>\n",
       "      <td>1</td>\n",
       "      <td>112542.58</td>\n",
       "      <td>0</td>\n",
       "    </tr>\n",
       "    <tr>\n",
       "      <th>2</th>\n",
       "      <td>502</td>\n",
       "      <td>France</td>\n",
       "      <td>Female</td>\n",
       "      <td>42</td>\n",
       "      <td>8</td>\n",
       "      <td>159660.80</td>\n",
       "      <td>3</td>\n",
       "      <td>1</td>\n",
       "      <td>0</td>\n",
       "      <td>113931.57</td>\n",
       "      <td>1</td>\n",
       "    </tr>\n",
       "    <tr>\n",
       "      <th>3</th>\n",
       "      <td>699</td>\n",
       "      <td>France</td>\n",
       "      <td>Female</td>\n",
       "      <td>39</td>\n",
       "      <td>1</td>\n",
       "      <td>0.00</td>\n",
       "      <td>2</td>\n",
       "      <td>0</td>\n",
       "      <td>0</td>\n",
       "      <td>93826.63</td>\n",
       "      <td>0</td>\n",
       "    </tr>\n",
       "    <tr>\n",
       "      <th>4</th>\n",
       "      <td>850</td>\n",
       "      <td>Spain</td>\n",
       "      <td>Female</td>\n",
       "      <td>43</td>\n",
       "      <td>2</td>\n",
       "      <td>125510.82</td>\n",
       "      <td>1</td>\n",
       "      <td>1</td>\n",
       "      <td>1</td>\n",
       "      <td>79084.10</td>\n",
       "      <td>0</td>\n",
       "    </tr>\n",
       "  </tbody>\n",
       "</table>\n",
       "</div>"
      ],
      "text/plain": [
       "   CreditScore Geography  Gender  Age  Tenure    Balance  NumOfProducts  \\\n",
       "0          619    France  Female   42       2       0.00              1   \n",
       "1          608     Spain  Female   41       1   83807.86              1   \n",
       "2          502    France  Female   42       8  159660.80              3   \n",
       "3          699    France  Female   39       1       0.00              2   \n",
       "4          850     Spain  Female   43       2  125510.82              1   \n",
       "\n",
       "   HasCrCard  IsActiveMember  EstimatedSalary  Exited  \n",
       "0          1               1        101348.88       1  \n",
       "1          0               1        112542.58       0  \n",
       "2          1               0        113931.57       1  \n",
       "3          0               0         93826.63       0  \n",
       "4          1               1         79084.10       0  "
      ]
     },
     "execution_count": 5,
     "metadata": {},
     "output_type": "execute_result"
    }
   ],
   "source": [
    "df.head()"
   ]
  },
  {
   "cell_type": "code",
   "execution_count": 6,
   "id": "2c3012d9",
   "metadata": {
    "execution": {
     "iopub.execute_input": "2023-12-24T01:59:30.198109Z",
     "iopub.status.busy": "2023-12-24T01:59:30.197640Z",
     "iopub.status.idle": "2023-12-24T01:59:30.209470Z",
     "shell.execute_reply": "2023-12-24T01:59:30.208460Z"
    },
    "papermill": {
     "duration": 0.022318,
     "end_time": "2023-12-24T01:59:30.211545",
     "exception": false,
     "start_time": "2023-12-24T01:59:30.189227",
     "status": "completed"
    },
    "tags": []
   },
   "outputs": [
    {
     "data": {
      "text/plain": [
       "Geography\n",
       "France     5014\n",
       "Germany    2509\n",
       "Spain      2477\n",
       "Name: count, dtype: int64"
      ]
     },
     "execution_count": 6,
     "metadata": {},
     "output_type": "execute_result"
    }
   ],
   "source": [
    "df['Geography'].value_counts()"
   ]
  },
  {
   "cell_type": "code",
   "execution_count": 7,
   "id": "38546cbc",
   "metadata": {
    "execution": {
     "iopub.execute_input": "2023-12-24T01:59:30.229599Z",
     "iopub.status.busy": "2023-12-24T01:59:30.228996Z",
     "iopub.status.idle": "2023-12-24T01:59:30.236670Z",
     "shell.execute_reply": "2023-12-24T01:59:30.235865Z"
    },
    "papermill": {
     "duration": 0.018831,
     "end_time": "2023-12-24T01:59:30.238727",
     "exception": false,
     "start_time": "2023-12-24T01:59:30.219896",
     "status": "completed"
    },
    "tags": []
   },
   "outputs": [
    {
     "data": {
      "text/plain": [
       "Gender\n",
       "Male      5457\n",
       "Female    4543\n",
       "Name: count, dtype: int64"
      ]
     },
     "execution_count": 7,
     "metadata": {},
     "output_type": "execute_result"
    }
   ],
   "source": [
    "df['Gender'].value_counts()"
   ]
  },
  {
   "cell_type": "code",
   "execution_count": 8,
   "id": "cf43e70f",
   "metadata": {
    "execution": {
     "iopub.execute_input": "2023-12-24T01:59:30.256745Z",
     "iopub.status.busy": "2023-12-24T01:59:30.256097Z",
     "iopub.status.idle": "2023-12-24T01:59:30.270620Z",
     "shell.execute_reply": "2023-12-24T01:59:30.269871Z"
    },
    "papermill": {
     "duration": 0.026172,
     "end_time": "2023-12-24T01:59:30.273394",
     "exception": false,
     "start_time": "2023-12-24T01:59:30.247222",
     "status": "completed"
    },
    "tags": []
   },
   "outputs": [],
   "source": [
    "df = pd.get_dummies(df, columns=['Geography', 'Gender'], drop_first=True)"
   ]
  },
  {
   "cell_type": "code",
   "execution_count": 9,
   "id": "aef542fa",
   "metadata": {
    "execution": {
     "iopub.execute_input": "2023-12-24T01:59:30.291411Z",
     "iopub.status.busy": "2023-12-24T01:59:30.291149Z",
     "iopub.status.idle": "2023-12-24T01:59:30.309589Z",
     "shell.execute_reply": "2023-12-24T01:59:30.308745Z"
    },
    "papermill": {
     "duration": 0.029695,
     "end_time": "2023-12-24T01:59:30.311419",
     "exception": false,
     "start_time": "2023-12-24T01:59:30.281724",
     "status": "completed"
    },
    "tags": []
   },
   "outputs": [
    {
     "data": {
      "text/html": [
       "<div>\n",
       "<style scoped>\n",
       "    .dataframe tbody tr th:only-of-type {\n",
       "        vertical-align: middle;\n",
       "    }\n",
       "\n",
       "    .dataframe tbody tr th {\n",
       "        vertical-align: top;\n",
       "    }\n",
       "\n",
       "    .dataframe thead th {\n",
       "        text-align: right;\n",
       "    }\n",
       "</style>\n",
       "<table border=\"1\" class=\"dataframe\">\n",
       "  <thead>\n",
       "    <tr style=\"text-align: right;\">\n",
       "      <th></th>\n",
       "      <th>CreditScore</th>\n",
       "      <th>Age</th>\n",
       "      <th>Tenure</th>\n",
       "      <th>Balance</th>\n",
       "      <th>NumOfProducts</th>\n",
       "      <th>HasCrCard</th>\n",
       "      <th>IsActiveMember</th>\n",
       "      <th>EstimatedSalary</th>\n",
       "      <th>Exited</th>\n",
       "      <th>Geography_Germany</th>\n",
       "      <th>Geography_Spain</th>\n",
       "      <th>Gender_Male</th>\n",
       "    </tr>\n",
       "  </thead>\n",
       "  <tbody>\n",
       "    <tr>\n",
       "      <th>0</th>\n",
       "      <td>619</td>\n",
       "      <td>42</td>\n",
       "      <td>2</td>\n",
       "      <td>0.00</td>\n",
       "      <td>1</td>\n",
       "      <td>1</td>\n",
       "      <td>1</td>\n",
       "      <td>101348.88</td>\n",
       "      <td>1</td>\n",
       "      <td>False</td>\n",
       "      <td>False</td>\n",
       "      <td>False</td>\n",
       "    </tr>\n",
       "    <tr>\n",
       "      <th>1</th>\n",
       "      <td>608</td>\n",
       "      <td>41</td>\n",
       "      <td>1</td>\n",
       "      <td>83807.86</td>\n",
       "      <td>1</td>\n",
       "      <td>0</td>\n",
       "      <td>1</td>\n",
       "      <td>112542.58</td>\n",
       "      <td>0</td>\n",
       "      <td>False</td>\n",
       "      <td>True</td>\n",
       "      <td>False</td>\n",
       "    </tr>\n",
       "    <tr>\n",
       "      <th>2</th>\n",
       "      <td>502</td>\n",
       "      <td>42</td>\n",
       "      <td>8</td>\n",
       "      <td>159660.80</td>\n",
       "      <td>3</td>\n",
       "      <td>1</td>\n",
       "      <td>0</td>\n",
       "      <td>113931.57</td>\n",
       "      <td>1</td>\n",
       "      <td>False</td>\n",
       "      <td>False</td>\n",
       "      <td>False</td>\n",
       "    </tr>\n",
       "    <tr>\n",
       "      <th>3</th>\n",
       "      <td>699</td>\n",
       "      <td>39</td>\n",
       "      <td>1</td>\n",
       "      <td>0.00</td>\n",
       "      <td>2</td>\n",
       "      <td>0</td>\n",
       "      <td>0</td>\n",
       "      <td>93826.63</td>\n",
       "      <td>0</td>\n",
       "      <td>False</td>\n",
       "      <td>False</td>\n",
       "      <td>False</td>\n",
       "    </tr>\n",
       "    <tr>\n",
       "      <th>4</th>\n",
       "      <td>850</td>\n",
       "      <td>43</td>\n",
       "      <td>2</td>\n",
       "      <td>125510.82</td>\n",
       "      <td>1</td>\n",
       "      <td>1</td>\n",
       "      <td>1</td>\n",
       "      <td>79084.10</td>\n",
       "      <td>0</td>\n",
       "      <td>False</td>\n",
       "      <td>True</td>\n",
       "      <td>False</td>\n",
       "    </tr>\n",
       "    <tr>\n",
       "      <th>...</th>\n",
       "      <td>...</td>\n",
       "      <td>...</td>\n",
       "      <td>...</td>\n",
       "      <td>...</td>\n",
       "      <td>...</td>\n",
       "      <td>...</td>\n",
       "      <td>...</td>\n",
       "      <td>...</td>\n",
       "      <td>...</td>\n",
       "      <td>...</td>\n",
       "      <td>...</td>\n",
       "      <td>...</td>\n",
       "    </tr>\n",
       "    <tr>\n",
       "      <th>9995</th>\n",
       "      <td>771</td>\n",
       "      <td>39</td>\n",
       "      <td>5</td>\n",
       "      <td>0.00</td>\n",
       "      <td>2</td>\n",
       "      <td>1</td>\n",
       "      <td>0</td>\n",
       "      <td>96270.64</td>\n",
       "      <td>0</td>\n",
       "      <td>False</td>\n",
       "      <td>False</td>\n",
       "      <td>True</td>\n",
       "    </tr>\n",
       "    <tr>\n",
       "      <th>9996</th>\n",
       "      <td>516</td>\n",
       "      <td>35</td>\n",
       "      <td>10</td>\n",
       "      <td>57369.61</td>\n",
       "      <td>1</td>\n",
       "      <td>1</td>\n",
       "      <td>1</td>\n",
       "      <td>101699.77</td>\n",
       "      <td>0</td>\n",
       "      <td>False</td>\n",
       "      <td>False</td>\n",
       "      <td>True</td>\n",
       "    </tr>\n",
       "    <tr>\n",
       "      <th>9997</th>\n",
       "      <td>709</td>\n",
       "      <td>36</td>\n",
       "      <td>7</td>\n",
       "      <td>0.00</td>\n",
       "      <td>1</td>\n",
       "      <td>0</td>\n",
       "      <td>1</td>\n",
       "      <td>42085.58</td>\n",
       "      <td>1</td>\n",
       "      <td>False</td>\n",
       "      <td>False</td>\n",
       "      <td>False</td>\n",
       "    </tr>\n",
       "    <tr>\n",
       "      <th>9998</th>\n",
       "      <td>772</td>\n",
       "      <td>42</td>\n",
       "      <td>3</td>\n",
       "      <td>75075.31</td>\n",
       "      <td>2</td>\n",
       "      <td>1</td>\n",
       "      <td>0</td>\n",
       "      <td>92888.52</td>\n",
       "      <td>1</td>\n",
       "      <td>True</td>\n",
       "      <td>False</td>\n",
       "      <td>True</td>\n",
       "    </tr>\n",
       "    <tr>\n",
       "      <th>9999</th>\n",
       "      <td>792</td>\n",
       "      <td>28</td>\n",
       "      <td>4</td>\n",
       "      <td>130142.79</td>\n",
       "      <td>1</td>\n",
       "      <td>1</td>\n",
       "      <td>0</td>\n",
       "      <td>38190.78</td>\n",
       "      <td>0</td>\n",
       "      <td>False</td>\n",
       "      <td>False</td>\n",
       "      <td>False</td>\n",
       "    </tr>\n",
       "  </tbody>\n",
       "</table>\n",
       "<p>10000 rows × 12 columns</p>\n",
       "</div>"
      ],
      "text/plain": [
       "      CreditScore  Age  Tenure    Balance  NumOfProducts  HasCrCard  \\\n",
       "0             619   42       2       0.00              1          1   \n",
       "1             608   41       1   83807.86              1          0   \n",
       "2             502   42       8  159660.80              3          1   \n",
       "3             699   39       1       0.00              2          0   \n",
       "4             850   43       2  125510.82              1          1   \n",
       "...           ...  ...     ...        ...            ...        ...   \n",
       "9995          771   39       5       0.00              2          1   \n",
       "9996          516   35      10   57369.61              1          1   \n",
       "9997          709   36       7       0.00              1          0   \n",
       "9998          772   42       3   75075.31              2          1   \n",
       "9999          792   28       4  130142.79              1          1   \n",
       "\n",
       "      IsActiveMember  EstimatedSalary  Exited  Geography_Germany  \\\n",
       "0                  1        101348.88       1              False   \n",
       "1                  1        112542.58       0              False   \n",
       "2                  0        113931.57       1              False   \n",
       "3                  0         93826.63       0              False   \n",
       "4                  1         79084.10       0              False   \n",
       "...              ...              ...     ...                ...   \n",
       "9995               0         96270.64       0              False   \n",
       "9996               1        101699.77       0              False   \n",
       "9997               1         42085.58       1              False   \n",
       "9998               0         92888.52       1               True   \n",
       "9999               0         38190.78       0              False   \n",
       "\n",
       "      Geography_Spain  Gender_Male  \n",
       "0               False        False  \n",
       "1                True        False  \n",
       "2               False        False  \n",
       "3               False        False  \n",
       "4                True        False  \n",
       "...               ...          ...  \n",
       "9995            False         True  \n",
       "9996            False         True  \n",
       "9997            False        False  \n",
       "9998            False         True  \n",
       "9999            False        False  \n",
       "\n",
       "[10000 rows x 12 columns]"
      ]
     },
     "execution_count": 9,
     "metadata": {},
     "output_type": "execute_result"
    }
   ],
   "source": [
    "df"
   ]
  },
  {
   "cell_type": "code",
   "execution_count": 10,
   "id": "f57969bc",
   "metadata": {
    "execution": {
     "iopub.execute_input": "2023-12-24T01:59:30.330633Z",
     "iopub.status.busy": "2023-12-24T01:59:30.330341Z",
     "iopub.status.idle": "2023-12-24T01:59:30.344051Z",
     "shell.execute_reply": "2023-12-24T01:59:30.343160Z"
    },
    "papermill": {
     "duration": 0.026116,
     "end_time": "2023-12-24T01:59:30.346258",
     "exception": false,
     "start_time": "2023-12-24T01:59:30.320142",
     "status": "completed"
    },
    "tags": []
   },
   "outputs": [
    {
     "data": {
      "text/html": [
       "<div>\n",
       "<style scoped>\n",
       "    .dataframe tbody tr th:only-of-type {\n",
       "        vertical-align: middle;\n",
       "    }\n",
       "\n",
       "    .dataframe tbody tr th {\n",
       "        vertical-align: top;\n",
       "    }\n",
       "\n",
       "    .dataframe thead th {\n",
       "        text-align: right;\n",
       "    }\n",
       "</style>\n",
       "<table border=\"1\" class=\"dataframe\">\n",
       "  <thead>\n",
       "    <tr style=\"text-align: right;\">\n",
       "      <th></th>\n",
       "      <th>CreditScore</th>\n",
       "      <th>Age</th>\n",
       "      <th>Tenure</th>\n",
       "      <th>Balance</th>\n",
       "      <th>NumOfProducts</th>\n",
       "      <th>HasCrCard</th>\n",
       "      <th>IsActiveMember</th>\n",
       "      <th>EstimatedSalary</th>\n",
       "      <th>Exited</th>\n",
       "      <th>Geography_Germany</th>\n",
       "      <th>Geography_Spain</th>\n",
       "      <th>Gender_Male</th>\n",
       "    </tr>\n",
       "  </thead>\n",
       "  <tbody>\n",
       "    <tr>\n",
       "      <th>0</th>\n",
       "      <td>619</td>\n",
       "      <td>42</td>\n",
       "      <td>2</td>\n",
       "      <td>0.00</td>\n",
       "      <td>1</td>\n",
       "      <td>1</td>\n",
       "      <td>1</td>\n",
       "      <td>101348.88</td>\n",
       "      <td>1</td>\n",
       "      <td>False</td>\n",
       "      <td>False</td>\n",
       "      <td>False</td>\n",
       "    </tr>\n",
       "    <tr>\n",
       "      <th>1</th>\n",
       "      <td>608</td>\n",
       "      <td>41</td>\n",
       "      <td>1</td>\n",
       "      <td>83807.86</td>\n",
       "      <td>1</td>\n",
       "      <td>0</td>\n",
       "      <td>1</td>\n",
       "      <td>112542.58</td>\n",
       "      <td>0</td>\n",
       "      <td>False</td>\n",
       "      <td>True</td>\n",
       "      <td>False</td>\n",
       "    </tr>\n",
       "    <tr>\n",
       "      <th>2</th>\n",
       "      <td>502</td>\n",
       "      <td>42</td>\n",
       "      <td>8</td>\n",
       "      <td>159660.80</td>\n",
       "      <td>3</td>\n",
       "      <td>1</td>\n",
       "      <td>0</td>\n",
       "      <td>113931.57</td>\n",
       "      <td>1</td>\n",
       "      <td>False</td>\n",
       "      <td>False</td>\n",
       "      <td>False</td>\n",
       "    </tr>\n",
       "    <tr>\n",
       "      <th>3</th>\n",
       "      <td>699</td>\n",
       "      <td>39</td>\n",
       "      <td>1</td>\n",
       "      <td>0.00</td>\n",
       "      <td>2</td>\n",
       "      <td>0</td>\n",
       "      <td>0</td>\n",
       "      <td>93826.63</td>\n",
       "      <td>0</td>\n",
       "      <td>False</td>\n",
       "      <td>False</td>\n",
       "      <td>False</td>\n",
       "    </tr>\n",
       "    <tr>\n",
       "      <th>4</th>\n",
       "      <td>850</td>\n",
       "      <td>43</td>\n",
       "      <td>2</td>\n",
       "      <td>125510.82</td>\n",
       "      <td>1</td>\n",
       "      <td>1</td>\n",
       "      <td>1</td>\n",
       "      <td>79084.10</td>\n",
       "      <td>0</td>\n",
       "      <td>False</td>\n",
       "      <td>True</td>\n",
       "      <td>False</td>\n",
       "    </tr>\n",
       "  </tbody>\n",
       "</table>\n",
       "</div>"
      ],
      "text/plain": [
       "   CreditScore  Age  Tenure    Balance  NumOfProducts  HasCrCard  \\\n",
       "0          619   42       2       0.00              1          1   \n",
       "1          608   41       1   83807.86              1          0   \n",
       "2          502   42       8  159660.80              3          1   \n",
       "3          699   39       1       0.00              2          0   \n",
       "4          850   43       2  125510.82              1          1   \n",
       "\n",
       "   IsActiveMember  EstimatedSalary  Exited  Geography_Germany  \\\n",
       "0               1        101348.88       1              False   \n",
       "1               1        112542.58       0              False   \n",
       "2               0        113931.57       1              False   \n",
       "3               0         93826.63       0              False   \n",
       "4               1         79084.10       0              False   \n",
       "\n",
       "   Geography_Spain  Gender_Male  \n",
       "0            False        False  \n",
       "1             True        False  \n",
       "2            False        False  \n",
       "3            False        False  \n",
       "4             True        False  "
      ]
     },
     "execution_count": 10,
     "metadata": {},
     "output_type": "execute_result"
    }
   ],
   "source": [
    "df.head()"
   ]
  },
  {
   "cell_type": "code",
   "execution_count": 11,
   "id": "ee17f9ba",
   "metadata": {
    "execution": {
     "iopub.execute_input": "2023-12-24T01:59:30.366440Z",
     "iopub.status.busy": "2023-12-24T01:59:30.365943Z",
     "iopub.status.idle": "2023-12-24T01:59:30.372167Z",
     "shell.execute_reply": "2023-12-24T01:59:30.371315Z"
    },
    "papermill": {
     "duration": 0.01804,
     "end_time": "2023-12-24T01:59:30.374143",
     "exception": false,
     "start_time": "2023-12-24T01:59:30.356103",
     "status": "completed"
    },
    "tags": []
   },
   "outputs": [],
   "source": [
    "df[['Geography_Germany', 'Geography_Spain', 'Gender_Male']] = df[['Geography_Germany', 'Geography_Spain', 'Gender_Male']].astype(int)"
   ]
  },
  {
   "cell_type": "code",
   "execution_count": 12,
   "id": "cfe33526",
   "metadata": {
    "execution": {
     "iopub.execute_input": "2023-12-24T01:59:30.393391Z",
     "iopub.status.busy": "2023-12-24T01:59:30.392902Z",
     "iopub.status.idle": "2023-12-24T01:59:30.405942Z",
     "shell.execute_reply": "2023-12-24T01:59:30.405166Z"
    },
    "papermill": {
     "duration": 0.025038,
     "end_time": "2023-12-24T01:59:30.407937",
     "exception": false,
     "start_time": "2023-12-24T01:59:30.382899",
     "status": "completed"
    },
    "tags": []
   },
   "outputs": [
    {
     "data": {
      "text/html": [
       "<div>\n",
       "<style scoped>\n",
       "    .dataframe tbody tr th:only-of-type {\n",
       "        vertical-align: middle;\n",
       "    }\n",
       "\n",
       "    .dataframe tbody tr th {\n",
       "        vertical-align: top;\n",
       "    }\n",
       "\n",
       "    .dataframe thead th {\n",
       "        text-align: right;\n",
       "    }\n",
       "</style>\n",
       "<table border=\"1\" class=\"dataframe\">\n",
       "  <thead>\n",
       "    <tr style=\"text-align: right;\">\n",
       "      <th></th>\n",
       "      <th>CreditScore</th>\n",
       "      <th>Age</th>\n",
       "      <th>Tenure</th>\n",
       "      <th>Balance</th>\n",
       "      <th>NumOfProducts</th>\n",
       "      <th>HasCrCard</th>\n",
       "      <th>IsActiveMember</th>\n",
       "      <th>EstimatedSalary</th>\n",
       "      <th>Exited</th>\n",
       "      <th>Geography_Germany</th>\n",
       "      <th>Geography_Spain</th>\n",
       "      <th>Gender_Male</th>\n",
       "    </tr>\n",
       "  </thead>\n",
       "  <tbody>\n",
       "    <tr>\n",
       "      <th>0</th>\n",
       "      <td>619</td>\n",
       "      <td>42</td>\n",
       "      <td>2</td>\n",
       "      <td>0.00</td>\n",
       "      <td>1</td>\n",
       "      <td>1</td>\n",
       "      <td>1</td>\n",
       "      <td>101348.88</td>\n",
       "      <td>1</td>\n",
       "      <td>0</td>\n",
       "      <td>0</td>\n",
       "      <td>0</td>\n",
       "    </tr>\n",
       "    <tr>\n",
       "      <th>1</th>\n",
       "      <td>608</td>\n",
       "      <td>41</td>\n",
       "      <td>1</td>\n",
       "      <td>83807.86</td>\n",
       "      <td>1</td>\n",
       "      <td>0</td>\n",
       "      <td>1</td>\n",
       "      <td>112542.58</td>\n",
       "      <td>0</td>\n",
       "      <td>0</td>\n",
       "      <td>1</td>\n",
       "      <td>0</td>\n",
       "    </tr>\n",
       "    <tr>\n",
       "      <th>2</th>\n",
       "      <td>502</td>\n",
       "      <td>42</td>\n",
       "      <td>8</td>\n",
       "      <td>159660.80</td>\n",
       "      <td>3</td>\n",
       "      <td>1</td>\n",
       "      <td>0</td>\n",
       "      <td>113931.57</td>\n",
       "      <td>1</td>\n",
       "      <td>0</td>\n",
       "      <td>0</td>\n",
       "      <td>0</td>\n",
       "    </tr>\n",
       "    <tr>\n",
       "      <th>3</th>\n",
       "      <td>699</td>\n",
       "      <td>39</td>\n",
       "      <td>1</td>\n",
       "      <td>0.00</td>\n",
       "      <td>2</td>\n",
       "      <td>0</td>\n",
       "      <td>0</td>\n",
       "      <td>93826.63</td>\n",
       "      <td>0</td>\n",
       "      <td>0</td>\n",
       "      <td>0</td>\n",
       "      <td>0</td>\n",
       "    </tr>\n",
       "    <tr>\n",
       "      <th>4</th>\n",
       "      <td>850</td>\n",
       "      <td>43</td>\n",
       "      <td>2</td>\n",
       "      <td>125510.82</td>\n",
       "      <td>1</td>\n",
       "      <td>1</td>\n",
       "      <td>1</td>\n",
       "      <td>79084.10</td>\n",
       "      <td>0</td>\n",
       "      <td>0</td>\n",
       "      <td>1</td>\n",
       "      <td>0</td>\n",
       "    </tr>\n",
       "  </tbody>\n",
       "</table>\n",
       "</div>"
      ],
      "text/plain": [
       "   CreditScore  Age  Tenure    Balance  NumOfProducts  HasCrCard  \\\n",
       "0          619   42       2       0.00              1          1   \n",
       "1          608   41       1   83807.86              1          0   \n",
       "2          502   42       8  159660.80              3          1   \n",
       "3          699   39       1       0.00              2          0   \n",
       "4          850   43       2  125510.82              1          1   \n",
       "\n",
       "   IsActiveMember  EstimatedSalary  Exited  Geography_Germany  \\\n",
       "0               1        101348.88       1                  0   \n",
       "1               1        112542.58       0                  0   \n",
       "2               0        113931.57       1                  0   \n",
       "3               0         93826.63       0                  0   \n",
       "4               1         79084.10       0                  0   \n",
       "\n",
       "   Geography_Spain  Gender_Male  \n",
       "0                0            0  \n",
       "1                1            0  \n",
       "2                0            0  \n",
       "3                0            0  \n",
       "4                1            0  "
      ]
     },
     "execution_count": 12,
     "metadata": {},
     "output_type": "execute_result"
    }
   ],
   "source": [
    "df.head()"
   ]
  },
  {
   "cell_type": "code",
   "execution_count": 13,
   "id": "b0a77956",
   "metadata": {
    "execution": {
     "iopub.execute_input": "2023-12-24T01:59:30.428764Z",
     "iopub.status.busy": "2023-12-24T01:59:30.428225Z",
     "iopub.status.idle": "2023-12-24T01:59:30.433505Z",
     "shell.execute_reply": "2023-12-24T01:59:30.432626Z"
    },
    "papermill": {
     "duration": 0.017154,
     "end_time": "2023-12-24T01:59:30.435376",
     "exception": false,
     "start_time": "2023-12-24T01:59:30.418222",
     "status": "completed"
    },
    "tags": []
   },
   "outputs": [],
   "source": [
    "x = df.drop(columns=['Exited'])\n",
    "y=df['Exited'].values"
   ]
  },
  {
   "cell_type": "code",
   "execution_count": 14,
   "id": "ab889b01",
   "metadata": {
    "execution": {
     "iopub.execute_input": "2023-12-24T01:59:30.456305Z",
     "iopub.status.busy": "2023-12-24T01:59:30.455971Z",
     "iopub.status.idle": "2023-12-24T01:59:31.486666Z",
     "shell.execute_reply": "2023-12-24T01:59:31.485730Z"
    },
    "papermill": {
     "duration": 1.044147,
     "end_time": "2023-12-24T01:59:31.489513",
     "exception": false,
     "start_time": "2023-12-24T01:59:30.445366",
     "status": "completed"
    },
    "tags": []
   },
   "outputs": [
    {
     "name": "stderr",
     "output_type": "stream",
     "text": [
      "/opt/conda/lib/python3.10/site-packages/scipy/__init__.py:146: UserWarning: A NumPy version >=1.16.5 and <1.23.0 is required for this version of SciPy (detected version 1.24.3\n",
      "  warnings.warn(f\"A NumPy version >={np_minversion} and <{np_maxversion}\"\n"
     ]
    }
   ],
   "source": [
    "from sklearn.model_selection import train_test_split\n",
    "x_train, x_test, y_train, y_test = train_test_split(x, y, test_size=0.2,stratify=y)"
   ]
  },
  {
   "cell_type": "code",
   "execution_count": 15,
   "id": "f25d4260",
   "metadata": {
    "execution": {
     "iopub.execute_input": "2023-12-24T01:59:31.517552Z",
     "iopub.status.busy": "2023-12-24T01:59:31.517240Z",
     "iopub.status.idle": "2023-12-24T01:59:31.530194Z",
     "shell.execute_reply": "2023-12-24T01:59:31.529366Z"
    },
    "papermill": {
     "duration": 0.029159,
     "end_time": "2023-12-24T01:59:31.532169",
     "exception": false,
     "start_time": "2023-12-24T01:59:31.503010",
     "status": "completed"
    },
    "tags": []
   },
   "outputs": [],
   "source": [
    "from sklearn.preprocessing import StandardScaler \n",
    "sc = StandardScaler()\n",
    "\n",
    "x_train_fit_tran = sc.fit_transform(x_train)\n",
    "x_test_tran = sc.transform(x_test)"
   ]
  },
  {
   "cell_type": "code",
   "execution_count": 16,
   "id": "3e15785e",
   "metadata": {
    "execution": {
     "iopub.execute_input": "2023-12-24T01:59:31.551572Z",
     "iopub.status.busy": "2023-12-24T01:59:31.551298Z",
     "iopub.status.idle": "2023-12-24T01:59:43.936697Z",
     "shell.execute_reply": "2023-12-24T01:59:43.935889Z"
    },
    "papermill": {
     "duration": 12.398042,
     "end_time": "2023-12-24T01:59:43.939266",
     "exception": false,
     "start_time": "2023-12-24T01:59:31.541224",
     "status": "completed"
    },
    "tags": []
   },
   "outputs": [],
   "source": [
    "import tensorflow as tf\n",
    "\n",
    "from tensorflow import keras\n",
    "from tensorflow.keras import Sequential\n",
    "from tensorflow.keras.layers import Dense,Dropout"
   ]
  },
  {
   "cell_type": "code",
   "execution_count": 17,
   "id": "c92bb0c2",
   "metadata": {
    "execution": {
     "iopub.execute_input": "2023-12-24T01:59:43.961060Z",
     "iopub.status.busy": "2023-12-24T01:59:43.960489Z",
     "iopub.status.idle": "2023-12-24T01:59:48.023180Z",
     "shell.execute_reply": "2023-12-24T01:59:48.022390Z"
    },
    "papermill": {
     "duration": 4.075874,
     "end_time": "2023-12-24T01:59:48.025460",
     "exception": false,
     "start_time": "2023-12-24T01:59:43.949586",
     "status": "completed"
    },
    "tags": []
   },
   "outputs": [],
   "source": [
    "model = Sequential()\n",
    "\n",
    "model.add(Dense(128,activation='relu',input_dim=11))\n",
    "model.add(Dropout(0.5)) \n",
    "model.add(Dense(64,activation='relu'))\n",
    "model.add(Dropout(0.5)) \n",
    "model.add(Dense(32,activation='relu'))\n",
    "model.add(Dropout(0.5)) \n",
    "model.add(Dense(15,activation='sigmoid'))\n",
    "model.add(Dropout(0.5)) \n",
    "model.add(Dense(1,activation='sigmoid'))"
   ]
  },
  {
   "cell_type": "code",
   "execution_count": 18,
   "id": "8ea64f82",
   "metadata": {
    "execution": {
     "iopub.execute_input": "2023-12-24T01:59:48.045453Z",
     "iopub.status.busy": "2023-12-24T01:59:48.045150Z",
     "iopub.status.idle": "2023-12-24T01:59:48.073485Z",
     "shell.execute_reply": "2023-12-24T01:59:48.072311Z"
    },
    "papermill": {
     "duration": 0.048604,
     "end_time": "2023-12-24T01:59:48.083663",
     "exception": false,
     "start_time": "2023-12-24T01:59:48.035059",
     "status": "completed"
    },
    "tags": []
   },
   "outputs": [
    {
     "name": "stdout",
     "output_type": "stream",
     "text": [
      "Model: \"sequential\"\n",
      "_________________________________________________________________\n",
      " Layer (type)                Output Shape              Param #   \n",
      "=================================================================\n",
      " dense (Dense)               (None, 128)               1536      \n",
      "                                                                 \n",
      " dropout (Dropout)           (None, 128)               0         \n",
      "                                                                 \n",
      " dense_1 (Dense)             (None, 64)                8256      \n",
      "                                                                 \n",
      " dropout_1 (Dropout)         (None, 64)                0         \n",
      "                                                                 \n",
      " dense_2 (Dense)             (None, 32)                2080      \n",
      "                                                                 \n",
      " dropout_2 (Dropout)         (None, 32)                0         \n",
      "                                                                 \n",
      " dense_3 (Dense)             (None, 15)                495       \n",
      "                                                                 \n",
      " dropout_3 (Dropout)         (None, 15)                0         \n",
      "                                                                 \n",
      " dense_4 (Dense)             (None, 1)                 16        \n",
      "                                                                 \n",
      "=================================================================\n",
      "Total params: 12383 (48.37 KB)\n",
      "Trainable params: 12383 (48.37 KB)\n",
      "Non-trainable params: 0 (0.00 Byte)\n",
      "_________________________________________________________________\n"
     ]
    }
   ],
   "source": [
    "model.summary()"
   ]
  },
  {
   "cell_type": "code",
   "execution_count": 19,
   "id": "e736b86e",
   "metadata": {
    "execution": {
     "iopub.execute_input": "2023-12-24T01:59:48.107327Z",
     "iopub.status.busy": "2023-12-24T01:59:48.107009Z",
     "iopub.status.idle": "2023-12-24T01:59:48.122767Z",
     "shell.execute_reply": "2023-12-24T01:59:48.122021Z"
    },
    "papermill": {
     "duration": 0.030118,
     "end_time": "2023-12-24T01:59:48.124977",
     "exception": false,
     "start_time": "2023-12-24T01:59:48.094859",
     "status": "completed"
    },
    "tags": []
   },
   "outputs": [],
   "source": [
    "model.compile(optimizer='Adam',loss='binary_crossentropy',metrics=['accuracy'])"
   ]
  },
  {
   "cell_type": "code",
   "execution_count": 20,
   "id": "06c63a36",
   "metadata": {
    "execution": {
     "iopub.execute_input": "2023-12-24T01:59:48.148214Z",
     "iopub.status.busy": "2023-12-24T01:59:48.147939Z",
     "iopub.status.idle": "2023-12-24T02:00:52.322193Z",
     "shell.execute_reply": "2023-12-24T02:00:52.321138Z"
    },
    "papermill": {
     "duration": 64.188614,
     "end_time": "2023-12-24T02:00:52.324704",
     "exception": false,
     "start_time": "2023-12-24T01:59:48.136090",
     "status": "completed"
    },
    "tags": []
   },
   "outputs": [
    {
     "name": "stdout",
     "output_type": "stream",
     "text": [
      "Epoch 1/125\n",
      "128/128 [==============================] - 7s 5ms/step - loss: 0.6432 - accuracy: 0.6627 - val_loss: 0.5019 - val_accuracy: 0.7925\n",
      "Epoch 2/125\n",
      "128/128 [==============================] - 0s 4ms/step - loss: 0.5448 - accuracy: 0.7636 - val_loss: 0.4512 - val_accuracy: 0.8025\n",
      "Epoch 3/125\n",
      "128/128 [==============================] - 0s 4ms/step - loss: 0.4989 - accuracy: 0.7842 - val_loss: 0.4380 - val_accuracy: 0.8138\n",
      "Epoch 4/125\n",
      "128/128 [==============================] - 0s 4ms/step - loss: 0.4874 - accuracy: 0.8037 - val_loss: 0.4350 - val_accuracy: 0.8200\n",
      "Epoch 5/125\n",
      "128/128 [==============================] - 0s 4ms/step - loss: 0.4753 - accuracy: 0.8069 - val_loss: 0.4312 - val_accuracy: 0.8206\n",
      "Epoch 6/125\n",
      "128/128 [==============================] - 0s 4ms/step - loss: 0.4662 - accuracy: 0.8152 - val_loss: 0.4281 - val_accuracy: 0.8238\n",
      "Epoch 7/125\n",
      "128/128 [==============================] - 0s 4ms/step - loss: 0.4538 - accuracy: 0.8223 - val_loss: 0.4233 - val_accuracy: 0.8144\n",
      "Epoch 8/125\n",
      "128/128 [==============================] - 0s 4ms/step - loss: 0.4576 - accuracy: 0.8152 - val_loss: 0.4149 - val_accuracy: 0.8206\n",
      "Epoch 9/125\n",
      "128/128 [==============================] - 0s 4ms/step - loss: 0.4500 - accuracy: 0.8178 - val_loss: 0.4097 - val_accuracy: 0.8200\n",
      "Epoch 10/125\n",
      "128/128 [==============================] - 0s 4ms/step - loss: 0.4476 - accuracy: 0.8228 - val_loss: 0.4046 - val_accuracy: 0.8225\n",
      "Epoch 11/125\n",
      "128/128 [==============================] - 0s 4ms/step - loss: 0.4397 - accuracy: 0.8231 - val_loss: 0.4009 - val_accuracy: 0.8275\n",
      "Epoch 12/125\n",
      "128/128 [==============================] - 0s 3ms/step - loss: 0.4278 - accuracy: 0.8300 - val_loss: 0.3961 - val_accuracy: 0.8256\n",
      "Epoch 13/125\n",
      "128/128 [==============================] - 0s 4ms/step - loss: 0.4298 - accuracy: 0.8250 - val_loss: 0.3891 - val_accuracy: 0.8294\n",
      "Epoch 14/125\n",
      "128/128 [==============================] - 0s 4ms/step - loss: 0.4251 - accuracy: 0.8319 - val_loss: 0.3786 - val_accuracy: 0.8388\n",
      "Epoch 15/125\n",
      "128/128 [==============================] - 0s 4ms/step - loss: 0.4159 - accuracy: 0.8350 - val_loss: 0.3704 - val_accuracy: 0.8487\n",
      "Epoch 16/125\n",
      "128/128 [==============================] - 0s 4ms/step - loss: 0.4130 - accuracy: 0.8348 - val_loss: 0.3652 - val_accuracy: 0.8519\n",
      "Epoch 17/125\n",
      "128/128 [==============================] - 1s 4ms/step - loss: 0.4023 - accuracy: 0.8442 - val_loss: 0.3621 - val_accuracy: 0.8525\n",
      "Epoch 18/125\n",
      "128/128 [==============================] - 1s 4ms/step - loss: 0.4015 - accuracy: 0.8450 - val_loss: 0.3594 - val_accuracy: 0.8525\n",
      "Epoch 19/125\n",
      "128/128 [==============================] - 0s 4ms/step - loss: 0.3962 - accuracy: 0.8462 - val_loss: 0.3576 - val_accuracy: 0.8544\n",
      "Epoch 20/125\n",
      "128/128 [==============================] - 0s 4ms/step - loss: 0.3915 - accuracy: 0.8452 - val_loss: 0.3523 - val_accuracy: 0.8537\n",
      "Epoch 21/125\n",
      "128/128 [==============================] - 0s 4ms/step - loss: 0.3878 - accuracy: 0.8455 - val_loss: 0.3508 - val_accuracy: 0.8519\n",
      "Epoch 22/125\n",
      "128/128 [==============================] - 0s 4ms/step - loss: 0.3868 - accuracy: 0.8495 - val_loss: 0.3491 - val_accuracy: 0.8531\n",
      "Epoch 23/125\n",
      "128/128 [==============================] - 0s 4ms/step - loss: 0.3860 - accuracy: 0.8509 - val_loss: 0.3498 - val_accuracy: 0.8519\n",
      "Epoch 24/125\n",
      "128/128 [==============================] - 0s 4ms/step - loss: 0.3832 - accuracy: 0.8539 - val_loss: 0.3478 - val_accuracy: 0.8562\n",
      "Epoch 25/125\n",
      "128/128 [==============================] - 0s 4ms/step - loss: 0.3782 - accuracy: 0.8517 - val_loss: 0.3446 - val_accuracy: 0.8612\n",
      "Epoch 26/125\n",
      "128/128 [==============================] - 0s 4ms/step - loss: 0.3773 - accuracy: 0.8530 - val_loss: 0.3458 - val_accuracy: 0.8556\n",
      "Epoch 27/125\n",
      "128/128 [==============================] - 0s 3ms/step - loss: 0.3738 - accuracy: 0.8566 - val_loss: 0.3462 - val_accuracy: 0.8537\n",
      "Epoch 28/125\n",
      "128/128 [==============================] - 0s 4ms/step - loss: 0.3790 - accuracy: 0.8547 - val_loss: 0.3465 - val_accuracy: 0.8575\n",
      "Epoch 29/125\n",
      "128/128 [==============================] - 0s 4ms/step - loss: 0.3699 - accuracy: 0.8541 - val_loss: 0.3434 - val_accuracy: 0.8587\n",
      "Epoch 30/125\n",
      "128/128 [==============================] - 0s 4ms/step - loss: 0.3749 - accuracy: 0.8525 - val_loss: 0.3436 - val_accuracy: 0.8562\n",
      "Epoch 31/125\n",
      "128/128 [==============================] - 0s 4ms/step - loss: 0.3712 - accuracy: 0.8537 - val_loss: 0.3451 - val_accuracy: 0.8550\n",
      "Epoch 32/125\n",
      "128/128 [==============================] - 0s 3ms/step - loss: 0.3738 - accuracy: 0.8583 - val_loss: 0.3432 - val_accuracy: 0.8537\n",
      "Epoch 33/125\n",
      "128/128 [==============================] - 0s 4ms/step - loss: 0.3700 - accuracy: 0.8570 - val_loss: 0.3440 - val_accuracy: 0.8562\n",
      "Epoch 34/125\n",
      "128/128 [==============================] - 0s 4ms/step - loss: 0.3728 - accuracy: 0.8545 - val_loss: 0.3421 - val_accuracy: 0.8575\n",
      "Epoch 35/125\n",
      "128/128 [==============================] - 0s 4ms/step - loss: 0.3648 - accuracy: 0.8578 - val_loss: 0.3428 - val_accuracy: 0.8575\n",
      "Epoch 36/125\n",
      "128/128 [==============================] - 0s 3ms/step - loss: 0.3641 - accuracy: 0.8573 - val_loss: 0.3436 - val_accuracy: 0.8594\n",
      "Epoch 37/125\n",
      "128/128 [==============================] - 0s 4ms/step - loss: 0.3628 - accuracy: 0.8564 - val_loss: 0.3466 - val_accuracy: 0.8537\n",
      "Epoch 38/125\n",
      "128/128 [==============================] - 0s 4ms/step - loss: 0.3700 - accuracy: 0.8542 - val_loss: 0.3464 - val_accuracy: 0.8569\n",
      "Epoch 39/125\n",
      "128/128 [==============================] - 0s 4ms/step - loss: 0.3608 - accuracy: 0.8586 - val_loss: 0.3445 - val_accuracy: 0.8556\n",
      "Epoch 40/125\n",
      "128/128 [==============================] - 0s 3ms/step - loss: 0.3650 - accuracy: 0.8597 - val_loss: 0.3442 - val_accuracy: 0.8550\n",
      "Epoch 41/125\n",
      "128/128 [==============================] - 0s 4ms/step - loss: 0.3627 - accuracy: 0.8573 - val_loss: 0.3455 - val_accuracy: 0.8531\n",
      "Epoch 42/125\n",
      "128/128 [==============================] - 0s 4ms/step - loss: 0.3609 - accuracy: 0.8616 - val_loss: 0.3464 - val_accuracy: 0.8525\n",
      "Epoch 43/125\n",
      "128/128 [==============================] - 0s 3ms/step - loss: 0.3620 - accuracy: 0.8592 - val_loss: 0.3438 - val_accuracy: 0.8556\n",
      "Epoch 44/125\n",
      "128/128 [==============================] - 0s 4ms/step - loss: 0.3571 - accuracy: 0.8609 - val_loss: 0.3425 - val_accuracy: 0.8587\n",
      "Epoch 45/125\n",
      "128/128 [==============================] - 0s 4ms/step - loss: 0.3614 - accuracy: 0.8578 - val_loss: 0.3420 - val_accuracy: 0.8550\n",
      "Epoch 46/125\n",
      "128/128 [==============================] - 0s 4ms/step - loss: 0.3615 - accuracy: 0.8556 - val_loss: 0.3423 - val_accuracy: 0.8587\n",
      "Epoch 47/125\n",
      "128/128 [==============================] - 0s 4ms/step - loss: 0.3560 - accuracy: 0.8598 - val_loss: 0.3444 - val_accuracy: 0.8544\n",
      "Epoch 48/125\n",
      "128/128 [==============================] - 0s 4ms/step - loss: 0.3578 - accuracy: 0.8592 - val_loss: 0.3455 - val_accuracy: 0.8556\n",
      "Epoch 49/125\n",
      "128/128 [==============================] - 0s 4ms/step - loss: 0.3628 - accuracy: 0.8581 - val_loss: 0.3434 - val_accuracy: 0.8587\n",
      "Epoch 50/125\n",
      "128/128 [==============================] - 0s 4ms/step - loss: 0.3570 - accuracy: 0.8589 - val_loss: 0.3446 - val_accuracy: 0.8562\n",
      "Epoch 51/125\n",
      "128/128 [==============================] - 0s 4ms/step - loss: 0.3525 - accuracy: 0.8616 - val_loss: 0.3462 - val_accuracy: 0.8569\n",
      "Epoch 52/125\n",
      "128/128 [==============================] - 0s 4ms/step - loss: 0.3597 - accuracy: 0.8611 - val_loss: 0.3439 - val_accuracy: 0.8575\n",
      "Epoch 53/125\n",
      "128/128 [==============================] - 0s 4ms/step - loss: 0.3579 - accuracy: 0.8562 - val_loss: 0.3449 - val_accuracy: 0.8612\n",
      "Epoch 54/125\n",
      "128/128 [==============================] - 0s 4ms/step - loss: 0.3567 - accuracy: 0.8622 - val_loss: 0.3465 - val_accuracy: 0.8537\n",
      "Epoch 55/125\n",
      "128/128 [==============================] - 0s 4ms/step - loss: 0.3593 - accuracy: 0.8589 - val_loss: 0.3418 - val_accuracy: 0.8581\n",
      "Epoch 56/125\n",
      "128/128 [==============================] - 0s 4ms/step - loss: 0.3595 - accuracy: 0.8559 - val_loss: 0.3418 - val_accuracy: 0.8562\n",
      "Epoch 57/125\n",
      "128/128 [==============================] - 0s 4ms/step - loss: 0.3568 - accuracy: 0.8597 - val_loss: 0.3441 - val_accuracy: 0.8556\n",
      "Epoch 58/125\n",
      "128/128 [==============================] - 0s 4ms/step - loss: 0.3512 - accuracy: 0.8578 - val_loss: 0.3434 - val_accuracy: 0.8575\n",
      "Epoch 59/125\n",
      "128/128 [==============================] - 0s 4ms/step - loss: 0.3552 - accuracy: 0.8606 - val_loss: 0.3413 - val_accuracy: 0.8556\n",
      "Epoch 60/125\n",
      "128/128 [==============================] - 0s 4ms/step - loss: 0.3546 - accuracy: 0.8573 - val_loss: 0.3425 - val_accuracy: 0.8569\n",
      "Epoch 61/125\n",
      "128/128 [==============================] - 0s 4ms/step - loss: 0.3563 - accuracy: 0.8591 - val_loss: 0.3432 - val_accuracy: 0.8594\n",
      "Epoch 62/125\n",
      "128/128 [==============================] - 0s 4ms/step - loss: 0.3568 - accuracy: 0.8608 - val_loss: 0.3428 - val_accuracy: 0.8594\n",
      "Epoch 63/125\n",
      "128/128 [==============================] - 0s 4ms/step - loss: 0.3533 - accuracy: 0.8636 - val_loss: 0.3412 - val_accuracy: 0.8606\n",
      "Epoch 64/125\n",
      "128/128 [==============================] - 0s 4ms/step - loss: 0.3550 - accuracy: 0.8605 - val_loss: 0.3441 - val_accuracy: 0.8575\n",
      "Epoch 65/125\n",
      "128/128 [==============================] - 0s 4ms/step - loss: 0.3538 - accuracy: 0.8619 - val_loss: 0.3453 - val_accuracy: 0.8594\n",
      "Epoch 66/125\n",
      "128/128 [==============================] - 0s 4ms/step - loss: 0.3469 - accuracy: 0.8656 - val_loss: 0.3467 - val_accuracy: 0.8556\n",
      "Epoch 67/125\n",
      "128/128 [==============================] - 0s 3ms/step - loss: 0.3515 - accuracy: 0.8614 - val_loss: 0.3450 - val_accuracy: 0.8612\n",
      "Epoch 68/125\n",
      "128/128 [==============================] - 0s 4ms/step - loss: 0.3478 - accuracy: 0.8600 - val_loss: 0.3450 - val_accuracy: 0.8587\n",
      "Epoch 69/125\n",
      "128/128 [==============================] - 0s 4ms/step - loss: 0.3502 - accuracy: 0.8617 - val_loss: 0.3435 - val_accuracy: 0.8581\n",
      "Epoch 70/125\n",
      "128/128 [==============================] - 0s 4ms/step - loss: 0.3505 - accuracy: 0.8617 - val_loss: 0.3420 - val_accuracy: 0.8600\n",
      "Epoch 71/125\n",
      "128/128 [==============================] - 0s 4ms/step - loss: 0.3470 - accuracy: 0.8617 - val_loss: 0.3450 - val_accuracy: 0.8587\n",
      "Epoch 72/125\n",
      "128/128 [==============================] - 0s 4ms/step - loss: 0.3488 - accuracy: 0.8617 - val_loss: 0.3455 - val_accuracy: 0.8594\n",
      "Epoch 73/125\n",
      "128/128 [==============================] - 0s 4ms/step - loss: 0.3485 - accuracy: 0.8595 - val_loss: 0.3447 - val_accuracy: 0.8569\n",
      "Epoch 74/125\n",
      "128/128 [==============================] - 0s 4ms/step - loss: 0.3516 - accuracy: 0.8616 - val_loss: 0.3429 - val_accuracy: 0.8594\n",
      "Epoch 75/125\n",
      "128/128 [==============================] - 0s 4ms/step - loss: 0.3475 - accuracy: 0.8647 - val_loss: 0.3446 - val_accuracy: 0.8594\n",
      "Epoch 76/125\n",
      "128/128 [==============================] - 0s 4ms/step - loss: 0.3530 - accuracy: 0.8611 - val_loss: 0.3423 - val_accuracy: 0.8619\n",
      "Epoch 77/125\n",
      "128/128 [==============================] - 0s 4ms/step - loss: 0.3439 - accuracy: 0.8637 - val_loss: 0.3446 - val_accuracy: 0.8581\n",
      "Epoch 78/125\n",
      "128/128 [==============================] - 0s 4ms/step - loss: 0.3466 - accuracy: 0.8648 - val_loss: 0.3447 - val_accuracy: 0.8581\n",
      "Epoch 79/125\n",
      "128/128 [==============================] - 0s 4ms/step - loss: 0.3463 - accuracy: 0.8631 - val_loss: 0.3470 - val_accuracy: 0.8556\n",
      "Epoch 80/125\n",
      "128/128 [==============================] - 0s 4ms/step - loss: 0.3509 - accuracy: 0.8625 - val_loss: 0.3425 - val_accuracy: 0.8587\n",
      "Epoch 81/125\n",
      "128/128 [==============================] - 0s 3ms/step - loss: 0.3448 - accuracy: 0.8650 - val_loss: 0.3426 - val_accuracy: 0.8562\n",
      "Epoch 82/125\n",
      "128/128 [==============================] - 0s 4ms/step - loss: 0.3460 - accuracy: 0.8645 - val_loss: 0.3447 - val_accuracy: 0.8556\n",
      "Epoch 83/125\n",
      "128/128 [==============================] - 0s 4ms/step - loss: 0.3456 - accuracy: 0.8653 - val_loss: 0.3417 - val_accuracy: 0.8556\n",
      "Epoch 84/125\n",
      "128/128 [==============================] - 1s 4ms/step - loss: 0.3412 - accuracy: 0.8658 - val_loss: 0.3413 - val_accuracy: 0.8544\n",
      "Epoch 85/125\n",
      "128/128 [==============================] - 1s 4ms/step - loss: 0.3424 - accuracy: 0.8661 - val_loss: 0.3399 - val_accuracy: 0.8550\n",
      "Epoch 86/125\n",
      "128/128 [==============================] - 0s 4ms/step - loss: 0.3450 - accuracy: 0.8656 - val_loss: 0.3432 - val_accuracy: 0.8562\n",
      "Epoch 87/125\n",
      "128/128 [==============================] - 0s 4ms/step - loss: 0.3409 - accuracy: 0.8667 - val_loss: 0.3430 - val_accuracy: 0.8562\n",
      "Epoch 88/125\n",
      "128/128 [==============================] - 0s 4ms/step - loss: 0.3450 - accuracy: 0.8633 - val_loss: 0.3431 - val_accuracy: 0.8612\n",
      "Epoch 89/125\n",
      "128/128 [==============================] - 0s 4ms/step - loss: 0.3413 - accuracy: 0.8637 - val_loss: 0.3434 - val_accuracy: 0.8606\n",
      "Epoch 90/125\n",
      "128/128 [==============================] - 0s 4ms/step - loss: 0.3421 - accuracy: 0.8648 - val_loss: 0.3422 - val_accuracy: 0.8587\n",
      "Epoch 91/125\n",
      "128/128 [==============================] - 0s 4ms/step - loss: 0.3468 - accuracy: 0.8664 - val_loss: 0.3406 - val_accuracy: 0.8569\n",
      "Epoch 92/125\n",
      "128/128 [==============================] - 0s 4ms/step - loss: 0.3438 - accuracy: 0.8639 - val_loss: 0.3411 - val_accuracy: 0.8581\n",
      "Epoch 93/125\n",
      "128/128 [==============================] - 0s 4ms/step - loss: 0.3439 - accuracy: 0.8645 - val_loss: 0.3426 - val_accuracy: 0.8562\n",
      "Epoch 94/125\n",
      "128/128 [==============================] - 0s 4ms/step - loss: 0.3375 - accuracy: 0.8678 - val_loss: 0.3449 - val_accuracy: 0.8544\n",
      "Epoch 95/125\n",
      "128/128 [==============================] - 0s 4ms/step - loss: 0.3378 - accuracy: 0.8684 - val_loss: 0.3456 - val_accuracy: 0.8575\n",
      "Epoch 96/125\n",
      "128/128 [==============================] - 0s 4ms/step - loss: 0.3482 - accuracy: 0.8622 - val_loss: 0.3428 - val_accuracy: 0.8537\n",
      "Epoch 97/125\n",
      "128/128 [==============================] - 0s 4ms/step - loss: 0.3404 - accuracy: 0.8680 - val_loss: 0.3438 - val_accuracy: 0.8569\n",
      "Epoch 98/125\n",
      "128/128 [==============================] - 0s 4ms/step - loss: 0.3433 - accuracy: 0.8664 - val_loss: 0.3453 - val_accuracy: 0.8550\n",
      "Epoch 99/125\n",
      "128/128 [==============================] - 0s 4ms/step - loss: 0.3387 - accuracy: 0.8677 - val_loss: 0.3421 - val_accuracy: 0.8612\n",
      "Epoch 100/125\n",
      "128/128 [==============================] - 0s 4ms/step - loss: 0.3407 - accuracy: 0.8650 - val_loss: 0.3427 - val_accuracy: 0.8587\n",
      "Epoch 101/125\n",
      "128/128 [==============================] - 0s 4ms/step - loss: 0.3449 - accuracy: 0.8656 - val_loss: 0.3422 - val_accuracy: 0.8625\n",
      "Epoch 102/125\n",
      "128/128 [==============================] - 0s 4ms/step - loss: 0.3407 - accuracy: 0.8658 - val_loss: 0.3428 - val_accuracy: 0.8612\n",
      "Epoch 103/125\n",
      "128/128 [==============================] - 0s 4ms/step - loss: 0.3437 - accuracy: 0.8627 - val_loss: 0.3461 - val_accuracy: 0.8575\n",
      "Epoch 104/125\n",
      "128/128 [==============================] - 0s 4ms/step - loss: 0.3353 - accuracy: 0.8675 - val_loss: 0.3473 - val_accuracy: 0.8587\n",
      "Epoch 105/125\n",
      "128/128 [==============================] - 0s 4ms/step - loss: 0.3440 - accuracy: 0.8647 - val_loss: 0.3444 - val_accuracy: 0.8594\n",
      "Epoch 106/125\n",
      "128/128 [==============================] - 0s 4ms/step - loss: 0.3353 - accuracy: 0.8694 - val_loss: 0.3466 - val_accuracy: 0.8575\n",
      "Epoch 107/125\n",
      "128/128 [==============================] - 0s 3ms/step - loss: 0.3375 - accuracy: 0.8694 - val_loss: 0.3419 - val_accuracy: 0.8575\n",
      "Epoch 108/125\n",
      "128/128 [==============================] - 0s 4ms/step - loss: 0.3352 - accuracy: 0.8673 - val_loss: 0.3425 - val_accuracy: 0.8619\n",
      "Epoch 109/125\n",
      "128/128 [==============================] - 0s 3ms/step - loss: 0.3361 - accuracy: 0.8692 - val_loss: 0.3421 - val_accuracy: 0.8550\n",
      "Epoch 110/125\n",
      "128/128 [==============================] - 0s 4ms/step - loss: 0.3356 - accuracy: 0.8698 - val_loss: 0.3411 - val_accuracy: 0.8587\n",
      "Epoch 111/125\n",
      "128/128 [==============================] - 0s 4ms/step - loss: 0.3369 - accuracy: 0.8697 - val_loss: 0.3431 - val_accuracy: 0.8587\n",
      "Epoch 112/125\n",
      "128/128 [==============================] - 0s 3ms/step - loss: 0.3385 - accuracy: 0.8677 - val_loss: 0.3460 - val_accuracy: 0.8600\n",
      "Epoch 113/125\n",
      "128/128 [==============================] - 0s 4ms/step - loss: 0.3368 - accuracy: 0.8673 - val_loss: 0.3453 - val_accuracy: 0.8587\n",
      "Epoch 114/125\n",
      "128/128 [==============================] - 0s 4ms/step - loss: 0.3344 - accuracy: 0.8680 - val_loss: 0.3421 - val_accuracy: 0.8581\n",
      "Epoch 115/125\n",
      "128/128 [==============================] - 0s 3ms/step - loss: 0.3375 - accuracy: 0.8637 - val_loss: 0.3428 - val_accuracy: 0.8587\n",
      "Epoch 116/125\n",
      "128/128 [==============================] - 0s 3ms/step - loss: 0.3329 - accuracy: 0.8697 - val_loss: 0.3425 - val_accuracy: 0.8581\n",
      "Epoch 117/125\n",
      "128/128 [==============================] - 0s 4ms/step - loss: 0.3364 - accuracy: 0.8683 - val_loss: 0.3443 - val_accuracy: 0.8575\n",
      "Epoch 118/125\n",
      "128/128 [==============================] - 0s 4ms/step - loss: 0.3386 - accuracy: 0.8686 - val_loss: 0.3422 - val_accuracy: 0.8575\n",
      "Epoch 119/125\n",
      "128/128 [==============================] - 0s 4ms/step - loss: 0.3410 - accuracy: 0.8670 - val_loss: 0.3446 - val_accuracy: 0.8600\n",
      "Epoch 120/125\n",
      "128/128 [==============================] - 0s 4ms/step - loss: 0.3386 - accuracy: 0.8697 - val_loss: 0.3432 - val_accuracy: 0.8612\n",
      "Epoch 121/125\n",
      "128/128 [==============================] - 0s 3ms/step - loss: 0.3409 - accuracy: 0.8716 - val_loss: 0.3408 - val_accuracy: 0.8606\n",
      "Epoch 122/125\n",
      "128/128 [==============================] - 0s 3ms/step - loss: 0.3426 - accuracy: 0.8645 - val_loss: 0.3457 - val_accuracy: 0.8594\n",
      "Epoch 123/125\n",
      "128/128 [==============================] - 0s 4ms/step - loss: 0.3347 - accuracy: 0.8672 - val_loss: 0.3465 - val_accuracy: 0.8569\n",
      "Epoch 124/125\n",
      "128/128 [==============================] - 0s 3ms/step - loss: 0.3350 - accuracy: 0.8689 - val_loss: 0.3460 - val_accuracy: 0.8581\n",
      "Epoch 125/125\n",
      "128/128 [==============================] - 0s 4ms/step - loss: 0.3438 - accuracy: 0.8705 - val_loss: 0.3465 - val_accuracy: 0.8587\n"
     ]
    }
   ],
   "source": [
    "history = model.fit(x_train_fit_tran,y_train,batch_size=50,epochs=125,verbose=1,validation_split=0.2)"
   ]
  },
  {
   "cell_type": "code",
   "execution_count": 21,
   "id": "054d5bbc",
   "metadata": {
    "execution": {
     "iopub.execute_input": "2023-12-24T02:00:52.569295Z",
     "iopub.status.busy": "2023-12-24T02:00:52.568802Z",
     "iopub.status.idle": "2023-12-24T02:00:52.869783Z",
     "shell.execute_reply": "2023-12-24T02:00:52.868847Z"
    },
    "papermill": {
     "duration": 0.416368,
     "end_time": "2023-12-24T02:00:52.872024",
     "exception": false,
     "start_time": "2023-12-24T02:00:52.455656",
     "status": "completed"
    },
    "tags": []
   },
   "outputs": [
    {
     "name": "stdout",
     "output_type": "stream",
     "text": [
      "63/63 [==============================] - 0s 1ms/step\n"
     ]
    }
   ],
   "source": [
    "y_pred = model.predict(x_test)"
   ]
  },
  {
   "cell_type": "code",
   "execution_count": 22,
   "id": "eecd1f89",
   "metadata": {
    "execution": {
     "iopub.execute_input": "2023-12-24T02:00:53.094874Z",
     "iopub.status.busy": "2023-12-24T02:00:53.094510Z",
     "iopub.status.idle": "2023-12-24T02:00:53.100755Z",
     "shell.execute_reply": "2023-12-24T02:00:53.099900Z"
    },
    "papermill": {
     "duration": 0.119524,
     "end_time": "2023-12-24T02:00:53.103060",
     "exception": false,
     "start_time": "2023-12-24T02:00:52.983536",
     "status": "completed"
    },
    "tags": []
   },
   "outputs": [
    {
     "data": {
      "text/plain": [
       "array([[0.1827819],\n",
       "       [0.1827819],\n",
       "       [0.1827819],\n",
       "       ...,\n",
       "       [0.1827819],\n",
       "       [0.1827819],\n",
       "       [0.1827819]], dtype=float32)"
      ]
     },
     "execution_count": 22,
     "metadata": {},
     "output_type": "execute_result"
    }
   ],
   "source": [
    "y_pred"
   ]
  },
  {
   "cell_type": "code",
   "execution_count": 23,
   "id": "94fbf6a9",
   "metadata": {
    "execution": {
     "iopub.execute_input": "2023-12-24T02:00:53.339535Z",
     "iopub.status.busy": "2023-12-24T02:00:53.338708Z",
     "iopub.status.idle": "2023-12-24T02:00:53.343235Z",
     "shell.execute_reply": "2023-12-24T02:00:53.342306Z"
    },
    "papermill": {
     "duration": 0.122976,
     "end_time": "2023-12-24T02:00:53.345382",
     "exception": false,
     "start_time": "2023-12-24T02:00:53.222406",
     "status": "completed"
    },
    "tags": []
   },
   "outputs": [],
   "source": [
    "y_pred = y_pred.argmax(axis=1)"
   ]
  },
  {
   "cell_type": "code",
   "execution_count": 24,
   "id": "498fabe4",
   "metadata": {
    "execution": {
     "iopub.execute_input": "2023-12-24T02:00:53.575407Z",
     "iopub.status.busy": "2023-12-24T02:00:53.574592Z",
     "iopub.status.idle": "2023-12-24T02:00:53.582376Z",
     "shell.execute_reply": "2023-12-24T02:00:53.581433Z"
    },
    "papermill": {
     "duration": 0.128193,
     "end_time": "2023-12-24T02:00:53.584297",
     "exception": false,
     "start_time": "2023-12-24T02:00:53.456104",
     "status": "completed"
    },
    "tags": []
   },
   "outputs": [
    {
     "data": {
      "text/plain": [
       "0.7965"
      ]
     },
     "execution_count": 24,
     "metadata": {},
     "output_type": "execute_result"
    }
   ],
   "source": [
    "from sklearn.metrics import accuracy_score as AS\n",
    "AS(y_test,y_pred)"
   ]
  },
  {
   "cell_type": "code",
   "execution_count": 25,
   "id": "c0426e20",
   "metadata": {
    "execution": {
     "iopub.execute_input": "2023-12-24T02:00:53.804625Z",
     "iopub.status.busy": "2023-12-24T02:00:53.804304Z",
     "iopub.status.idle": "2023-12-24T02:00:54.096492Z",
     "shell.execute_reply": "2023-12-24T02:00:54.095599Z"
    },
    "papermill": {
     "duration": 0.405338,
     "end_time": "2023-12-24T02:00:54.098541",
     "exception": false,
     "start_time": "2023-12-24T02:00:53.693203",
     "status": "completed"
    },
    "tags": []
   },
   "outputs": [
    {
     "data": {
      "text/plain": [
       "[<matplotlib.lines.Line2D at 0x7ed1d02e7f70>]"
      ]
     },
     "execution_count": 25,
     "metadata": {},
     "output_type": "execute_result"
    },
    {
     "data": {
      "image/png": "[encoded data removed]",
      "text/plain": [
       "<Figure size 640x480 with 1 Axes>"
      ]
     },
     "metadata": {},
     "output_type": "display_data"
    }
   ],
   "source": [
    "import matplotlib.pyplot as plt \n",
    "\n",
    "plt.plot(history.history['loss'])\n",
    "plt.plot(history.history['val_loss'])"
   ]
  },
  {
   "cell_type": "code",
   "execution_count": 26,
   "id": "ae90f367",
   "metadata": {
    "execution": {
     "iopub.execute_input": "2023-12-24T02:00:54.323614Z",
     "iopub.status.busy": "2023-12-24T02:00:54.323248Z",
     "iopub.status.idle": "2023-12-24T02:00:54.576304Z",
     "shell.execute_reply": "2023-12-24T02:00:54.574708Z"
    },
    "papermill": {
     "duration": 0.368378,
     "end_time": "2023-12-24T02:00:54.579067",
     "exception": false,
     "start_time": "2023-12-24T02:00:54.210689",
     "status": "completed"
    },
    "tags": []
   },
   "outputs": [
    {
     "data": {
      "text/plain": [
       "[<matplotlib.lines.Line2D at 0x7ed1ac3ec9d0>]"
      ]
     },
     "execution_count": 26,
     "metadata": {},
     "output_type": "execute_result"
    },
    {
     "data": {
      "image/png": "[encoded data removed]",
      "text/plain": [
       "<Figure size 640x480 with 1 Axes>"
      ]
     },
     "metadata": {},
     "output_type": "display_data"
    }
   ],
   "source": [
    "plt.plot(history.history['accuracy'])\n",
    "plt.plot(history.history['val_accuracy'])"
   ]
  },
  {
   "cell_type": "code",
   "execution_count": null,
   "id": "c9596936",
   "metadata": {
    "papermill": {
     "duration": 0.110094,
     "end_time": "2023-12-24T02:00:54.800714",
     "exception": false,
     "start_time": "2023-12-24T02:00:54.690620",
     "status": "completed"
    },
    "tags": []
   },
   "outputs": [],
   "source": []
  }
 ],
 "metadata": {
  "kaggle": {
   "accelerator": "nvidiaTeslaT4",
   "dataSources": [
    {
     "datasetId": 869651,
     "sourceId": 1481789,
     "sourceType": "datasetVersion"
    }
   ],
   "dockerImageVersionId": 30627,
   "isGpuEnabled": true,
   "isInternetEnabled": true,
   "language": "python",
   "sourceType": "notebook"
  },
  "kernelspec": {
   "display_name": "Python 3",
   "language": "python",
   "name": "python3"
  },
  "language_info": {
   "codemirror_mode": {
    "name": "ipython",
    "version": 3
   },
   "file_extension": ".py",
   "mimetype": "text/x-python",
   "name": "python",
   "nbconvert_exporter": "python",
   "pygments_lexer": "ipython3",
   "version": "3.10.12"
  },
  "papermill": {
   "default_parameters": {},
   "duration": 91.733499,
   "end_time": "2023-12-24T02:00:57.369103",
   "environment_variables": {},
   "exception": null,
   "input_path": "__notebook__.ipynb",
   "output_path": "__notebook__.ipynb",
   "parameters": {},
   "start_time": "2023-12-24T01:59:25.635604",
   "version": "2.4.0"
  }
 },
 "nbformat": 4,
 "nbformat_minor": 5
}
