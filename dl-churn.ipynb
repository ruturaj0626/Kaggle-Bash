{
 "cells": [
  {
   "cell_type": "code",
   "execution_count": 1,
   "id": "39cedb19",
   "metadata": {
    "_cell_guid": "b1076dfc-b9ad-4769-8c92-a6c4dae69d19",
    "_uuid": "8f2839f25d086af736a60e9eeb907d3b93b6e0e5",
    "execution": {
     "iopub.execute_input": "2023-12-24T02:28:37.282782Z",
     "iopub.status.busy": "2023-12-24T02:28:37.282402Z",
     "iopub.status.idle": "2023-12-24T02:28:37.287263Z",
     "shell.execute_reply": "2023-12-24T02:28:37.286299Z"
    },
    "papermill": {
     "duration": 0.012676,
     "end_time": "2023-12-24T02:28:37.289421",
     "exception": false,
     "start_time": "2023-12-24T02:28:37.276745",
     "status": "completed"
    },
    "tags": []
   },
   "outputs": [],
   "source": [
    "#/kaggle/input/credit-card-customer-churn-prediction/Churn_Modelling.csv"
   ]
  },
  {
   "cell_type": "code",
   "execution_count": 2,
   "id": "5c9af5cc",
   "metadata": {
    "execution": {
     "iopub.execute_input": "2023-12-24T02:28:37.301456Z",
     "iopub.status.busy": "2023-12-24T02:28:37.301204Z",
     "iopub.status.idle": "2023-12-24T02:28:51.610374Z",
     "shell.execute_reply": "2023-12-24T02:28:51.609586Z"
    },
    "papermill": {
     "duration": 14.317642,
     "end_time": "2023-12-24T02:28:51.612799",
     "exception": false,
     "start_time": "2023-12-24T02:28:37.295157",
     "status": "completed"
    },
    "tags": []
   },
   "outputs": [
    {
     "name": "stderr",
     "output_type": "stream",
     "text": [
      "/opt/conda/lib/python3.10/site-packages/scipy/__init__.py:146: UserWarning: A NumPy version >=1.16.5 and <1.23.0 is required for this version of SciPy (detected version 1.24.3\n",
      "  warnings.warn(f\"A NumPy version >={np_minversion} and <{np_maxversion}\"\n"
     ]
    }
   ],
   "source": [
    "import numpy as np \n",
    "import pandas as pd \n",
    "from sklearn.model_selection import train_test_split\n",
    "from sklearn.preprocessing import StandardScaler \n",
    "import matplotlib.pyplot as plt \n",
    "\n",
    "import tensorflow as tf\n",
    "from tensorflow import keras\n",
    "from tensorflow.keras import Sequential\n",
    "from tensorflow.keras.layers import Dense,Dropout\n",
    "from sklearn.metrics import accuracy_score"
   ]
  },
  {
   "cell_type": "code",
   "execution_count": 3,
   "id": "90dec2de",
   "metadata": {
    "execution": {
     "iopub.execute_input": "2023-12-24T02:28:51.622356Z",
     "iopub.status.busy": "2023-12-24T02:28:51.621845Z",
     "iopub.status.idle": "2023-12-24T02:28:51.667203Z",
     "shell.execute_reply": "2023-12-24T02:28:51.666478Z"
    },
    "papermill": {
     "duration": 0.052258,
     "end_time": "2023-12-24T02:28:51.669275",
     "exception": false,
     "start_time": "2023-12-24T02:28:51.617017",
     "status": "completed"
    },
    "tags": []
   },
   "outputs": [],
   "source": [
    "df = pd.read_csv('/kaggle/input/credit-card-customer-churn-prediction/Churn_Modelling.csv')"
   ]
  },
  {
   "cell_type": "code",
   "execution_count": 4,
   "id": "999e803e",
   "metadata": {
    "execution": {
     "iopub.execute_input": "2023-12-24T02:28:51.678581Z",
     "iopub.status.busy": "2023-12-24T02:28:51.678267Z",
     "iopub.status.idle": "2023-12-24T02:28:51.702273Z",
     "shell.execute_reply": "2023-12-24T02:28:51.701446Z"
    },
    "papermill": {
     "duration": 0.030817,
     "end_time": "2023-12-24T02:28:51.704225",
     "exception": false,
     "start_time": "2023-12-24T02:28:51.673408",
     "status": "completed"
    },
    "tags": []
   },
   "outputs": [
    {
     "data": {
      "text/html": [
       "<div>\n",
       "<style scoped>\n",
       "    .dataframe tbody tr th:only-of-type {\n",
       "        vertical-align: middle;\n",
       "    }\n",
       "\n",
       "    .dataframe tbody tr th {\n",
       "        vertical-align: top;\n",
       "    }\n",
       "\n",
       "    .dataframe thead th {\n",
       "        text-align: right;\n",
       "    }\n",
       "</style>\n",
       "<table border=\"1\" class=\"dataframe\">\n",
       "  <thead>\n",
       "    <tr style=\"text-align: right;\">\n",
       "      <th></th>\n",
       "      <th>RowNumber</th>\n",
       "      <th>CustomerId</th>\n",
       "      <th>Surname</th>\n",
       "      <th>CreditScore</th>\n",
       "      <th>Geography</th>\n",
       "      <th>Gender</th>\n",
       "      <th>Age</th>\n",
       "      <th>Tenure</th>\n",
       "      <th>Balance</th>\n",
       "      <th>NumOfProducts</th>\n",
       "      <th>HasCrCard</th>\n",
       "      <th>IsActiveMember</th>\n",
       "      <th>EstimatedSalary</th>\n",
       "      <th>Exited</th>\n",
       "    </tr>\n",
       "  </thead>\n",
       "  <tbody>\n",
       "    <tr>\n",
       "      <th>0</th>\n",
       "      <td>1</td>\n",
       "      <td>15634602</td>\n",
       "      <td>Hargrave</td>\n",
       "      <td>619</td>\n",
       "      <td>France</td>\n",
       "      <td>Female</td>\n",
       "      <td>42</td>\n",
       "      <td>2</td>\n",
       "      <td>0.00</td>\n",
       "      <td>1</td>\n",
       "      <td>1</td>\n",
       "      <td>1</td>\n",
       "      <td>101348.88</td>\n",
       "      <td>1</td>\n",
       "    </tr>\n",
       "    <tr>\n",
       "      <th>1</th>\n",
       "      <td>2</td>\n",
       "      <td>15647311</td>\n",
       "      <td>Hill</td>\n",
       "      <td>608</td>\n",
       "      <td>Spain</td>\n",
       "      <td>Female</td>\n",
       "      <td>41</td>\n",
       "      <td>1</td>\n",
       "      <td>83807.86</td>\n",
       "      <td>1</td>\n",
       "      <td>0</td>\n",
       "      <td>1</td>\n",
       "      <td>112542.58</td>\n",
       "      <td>0</td>\n",
       "    </tr>\n",
       "    <tr>\n",
       "      <th>2</th>\n",
       "      <td>3</td>\n",
       "      <td>15619304</td>\n",
       "      <td>Onio</td>\n",
       "      <td>502</td>\n",
       "      <td>France</td>\n",
       "      <td>Female</td>\n",
       "      <td>42</td>\n",
       "      <td>8</td>\n",
       "      <td>159660.80</td>\n",
       "      <td>3</td>\n",
       "      <td>1</td>\n",
       "      <td>0</td>\n",
       "      <td>113931.57</td>\n",
       "      <td>1</td>\n",
       "    </tr>\n",
       "    <tr>\n",
       "      <th>3</th>\n",
       "      <td>4</td>\n",
       "      <td>15701354</td>\n",
       "      <td>Boni</td>\n",
       "      <td>699</td>\n",
       "      <td>France</td>\n",
       "      <td>Female</td>\n",
       "      <td>39</td>\n",
       "      <td>1</td>\n",
       "      <td>0.00</td>\n",
       "      <td>2</td>\n",
       "      <td>0</td>\n",
       "      <td>0</td>\n",
       "      <td>93826.63</td>\n",
       "      <td>0</td>\n",
       "    </tr>\n",
       "    <tr>\n",
       "      <th>4</th>\n",
       "      <td>5</td>\n",
       "      <td>15737888</td>\n",
       "      <td>Mitchell</td>\n",
       "      <td>850</td>\n",
       "      <td>Spain</td>\n",
       "      <td>Female</td>\n",
       "      <td>43</td>\n",
       "      <td>2</td>\n",
       "      <td>125510.82</td>\n",
       "      <td>1</td>\n",
       "      <td>1</td>\n",
       "      <td>1</td>\n",
       "      <td>79084.10</td>\n",
       "      <td>0</td>\n",
       "    </tr>\n",
       "  </tbody>\n",
       "</table>\n",
       "</div>"
      ],
      "text/plain": [
       "   RowNumber  CustomerId   Surname  CreditScore Geography  Gender  Age  \\\n",
       "0          1    15634602  Hargrave          619    France  Female   42   \n",
       "1          2    15647311      Hill          608     Spain  Female   41   \n",
       "2          3    15619304      Onio          502    France  Female   42   \n",
       "3          4    15701354      Boni          699    France  Female   39   \n",
       "4          5    15737888  Mitchell          850     Spain  Female   43   \n",
       "\n",
       "   Tenure    Balance  NumOfProducts  HasCrCard  IsActiveMember  \\\n",
       "0       2       0.00              1          1               1   \n",
       "1       1   83807.86              1          0               1   \n",
       "2       8  159660.80              3          1               0   \n",
       "3       1       0.00              2          0               0   \n",
       "4       2  125510.82              1          1               1   \n",
       "\n",
       "   EstimatedSalary  Exited  \n",
       "0        101348.88       1  \n",
       "1        112542.58       0  \n",
       "2        113931.57       1  \n",
       "3         93826.63       0  \n",
       "4         79084.10       0  "
      ]
     },
     "execution_count": 4,
     "metadata": {},
     "output_type": "execute_result"
    }
   ],
   "source": [
    "df.head()"
   ]
  },
  {
   "cell_type": "code",
   "execution_count": 5,
   "id": "42b2e90c",
   "metadata": {
    "execution": {
     "iopub.execute_input": "2023-12-24T02:28:51.713793Z",
     "iopub.status.busy": "2023-12-24T02:28:51.713484Z",
     "iopub.status.idle": "2023-12-24T02:28:51.718629Z",
     "shell.execute_reply": "2023-12-24T02:28:51.717797Z"
    },
    "papermill": {
     "duration": 0.01199,
     "end_time": "2023-12-24T02:28:51.720562",
     "exception": false,
     "start_time": "2023-12-24T02:28:51.708572",
     "status": "completed"
    },
    "tags": []
   },
   "outputs": [],
   "source": [
    "def clean_df(data):\n",
    "    data.drop(columns=['RowNumber','CustomerId','Surname'],inplace=True)\n",
    "    data = pd.get_dummies(data, columns=['Geography', 'Gender'], drop_first=True)\n",
    "    data[['Geography_Germany', 'Geography_Spain', 'Gender_Male']] = data[['Geography_Germany', 'Geography_Spain', 'Gender_Male']].astype(int)\n",
    "    return data"
   ]
  },
  {
   "cell_type": "code",
   "execution_count": 6,
   "id": "3f63fde3",
   "metadata": {
    "execution": {
     "iopub.execute_input": "2023-12-24T02:28:51.730139Z",
     "iopub.status.busy": "2023-12-24T02:28:51.729899Z",
     "iopub.status.idle": "2023-12-24T02:28:51.754177Z",
     "shell.execute_reply": "2023-12-24T02:28:51.753506Z"
    },
    "papermill": {
     "duration": 0.031185,
     "end_time": "2023-12-24T02:28:51.756062",
     "exception": false,
     "start_time": "2023-12-24T02:28:51.724877",
     "status": "completed"
    },
    "tags": []
   },
   "outputs": [],
   "source": [
    "df = clean_df(df)"
   ]
  },
  {
   "cell_type": "code",
   "execution_count": 7,
   "id": "09f54575",
   "metadata": {
    "execution": {
     "iopub.execute_input": "2023-12-24T02:28:51.765456Z",
     "iopub.status.busy": "2023-12-24T02:28:51.765206Z",
     "iopub.status.idle": "2023-12-24T02:28:51.770455Z",
     "shell.execute_reply": "2023-12-24T02:28:51.769675Z"
    },
    "papermill": {
     "duration": 0.012003,
     "end_time": "2023-12-24T02:28:51.772261",
     "exception": false,
     "start_time": "2023-12-24T02:28:51.760258",
     "status": "completed"
    },
    "tags": []
   },
   "outputs": [],
   "source": [
    "def get_splits(data):\n",
    "    \n",
    "    x = df.drop(columns=['Exited'])\n",
    "    y=df['Exited'].values \n",
    "    \n",
    "    xtrain,xtest,ytrain,ytest = train_test_split(x,y,test_size=0.2,stratify=y)\n",
    "    \n",
    "    sc = StandardScaler()\n",
    "    xtrain_ft = sc.fit_transform(xtrain)\n",
    "    xtest_t = sc.transform(xtest)\n",
    "    \n",
    "    return xtrain_ft,xtest_t,ytrain,ytest"
   ]
  },
  {
   "cell_type": "code",
   "execution_count": 8,
   "id": "f45c3445",
   "metadata": {
    "execution": {
     "iopub.execute_input": "2023-12-24T02:28:51.781611Z",
     "iopub.status.busy": "2023-12-24T02:28:51.781315Z",
     "iopub.status.idle": "2023-12-24T02:28:51.800730Z",
     "shell.execute_reply": "2023-12-24T02:28:51.799848Z"
    },
    "papermill": {
     "duration": 0.026156,
     "end_time": "2023-12-24T02:28:51.802595",
     "exception": false,
     "start_time": "2023-12-24T02:28:51.776439",
     "status": "completed"
    },
    "tags": []
   },
   "outputs": [],
   "source": [
    "xtrain_ft,xtest_t,ytrain,ytest = get_splits(df)"
   ]
  },
  {
   "cell_type": "code",
   "execution_count": 9,
   "id": "222f41d5",
   "metadata": {
    "execution": {
     "iopub.execute_input": "2023-12-24T02:28:51.812371Z",
     "iopub.status.busy": "2023-12-24T02:28:51.812111Z",
     "iopub.status.idle": "2023-12-24T02:28:55.971252Z",
     "shell.execute_reply": "2023-12-24T02:28:55.970302Z"
    },
    "papermill": {
     "duration": 4.173295,
     "end_time": "2023-12-24T02:28:55.980353",
     "exception": false,
     "start_time": "2023-12-24T02:28:51.807058",
     "status": "completed"
    },
    "tags": []
   },
   "outputs": [
    {
     "name": "stdout",
     "output_type": "stream",
     "text": [
      "Model: \"sequential\"\n",
      "_________________________________________________________________\n",
      " Layer (type)                Output Shape              Param #   \n",
      "=================================================================\n",
      " dense (Dense)               (None, 128)               1536      \n",
      "                                                                 \n",
      " dropout (Dropout)           (None, 128)               0         \n",
      "                                                                 \n",
      " dense_1 (Dense)             (None, 64)                8256      \n",
      "                                                                 \n",
      " dropout_1 (Dropout)         (None, 64)                0         \n",
      "                                                                 \n",
      " dense_2 (Dense)             (None, 32)                2080      \n",
      "                                                                 \n",
      " dropout_2 (Dropout)         (None, 32)                0         \n",
      "                                                                 \n",
      " dense_3 (Dense)             (None, 1)                 33        \n",
      "                                                                 \n",
      "=================================================================\n",
      "Total params: 11905 (46.50 KB)\n",
      "Trainable params: 11905 (46.50 KB)\n",
      "Non-trainable params: 0 (0.00 Byte)\n",
      "_________________________________________________________________\n"
     ]
    }
   ],
   "source": [
    "def create_custom_model(input_dim, hidden_units=(128, 64, 32), dropout_rate=0.5):\n",
    "    model = Sequential()\n",
    "    \n",
    "    # Input layer\n",
    "    model.add(Dense(hidden_units[0], activation='relu', input_dim=input_dim))\n",
    "    model.add(Dropout(dropout_rate))\n",
    "    \n",
    "    # Hidden layers\n",
    "    for units in hidden_units[1:]:\n",
    "        model.add(Dense(units, activation='relu'))\n",
    "        model.add(Dropout(dropout_rate))\n",
    "    \n",
    "    # Output layer\n",
    "    model.add(Dense(1, activation='sigmoid'))\n",
    "    \n",
    "    return model\n",
    "\n",
    "input_dim = 11\n",
    "model = create_custom_model(input_dim)\n",
    "model.summary()"
   ]
  },
  {
   "cell_type": "code",
   "execution_count": 10,
   "id": "998c8fc8",
   "metadata": {
    "execution": {
     "iopub.execute_input": "2023-12-24T02:28:55.994250Z",
     "iopub.status.busy": "2023-12-24T02:28:55.993937Z",
     "iopub.status.idle": "2023-12-24T02:29:55.701442Z",
     "shell.execute_reply": "2023-12-24T02:29:55.700606Z"
    },
    "papermill": {
     "duration": 59.716796,
     "end_time": "2023-12-24T02:29:55.703516",
     "exception": false,
     "start_time": "2023-12-24T02:28:55.986720",
     "status": "completed"
    },
    "tags": []
   },
   "outputs": [
    {
     "name": "stdout",
     "output_type": "stream",
     "text": [
      "Epoch 1/125\n",
      "128/128 [==============================] - 6s 5ms/step - loss: 0.5121 - accuracy: 0.7916 - val_loss: 0.4514 - val_accuracy: 0.7887\n",
      "Epoch 2/125\n",
      "128/128 [==============================] - 0s 3ms/step - loss: 0.4712 - accuracy: 0.7973 - val_loss: 0.4464 - val_accuracy: 0.7925\n",
      "Epoch 3/125\n",
      "128/128 [==============================] - 0s 3ms/step - loss: 0.4551 - accuracy: 0.8055 - val_loss: 0.4353 - val_accuracy: 0.8037\n",
      "Epoch 4/125\n",
      "128/128 [==============================] - 0s 3ms/step - loss: 0.4491 - accuracy: 0.8012 - val_loss: 0.4286 - val_accuracy: 0.8206\n",
      "Epoch 5/125\n",
      "128/128 [==============================] - 0s 4ms/step - loss: 0.4417 - accuracy: 0.8059 - val_loss: 0.4178 - val_accuracy: 0.8331\n",
      "Epoch 6/125\n",
      "128/128 [==============================] - 0s 3ms/step - loss: 0.4325 - accuracy: 0.8128 - val_loss: 0.4082 - val_accuracy: 0.8400\n",
      "Epoch 7/125\n",
      "128/128 [==============================] - 0s 3ms/step - loss: 0.4264 - accuracy: 0.8195 - val_loss: 0.3994 - val_accuracy: 0.8456\n",
      "Epoch 8/125\n",
      "128/128 [==============================] - 0s 3ms/step - loss: 0.4126 - accuracy: 0.8244 - val_loss: 0.3840 - val_accuracy: 0.8531\n",
      "Epoch 9/125\n",
      "128/128 [==============================] - 0s 3ms/step - loss: 0.4048 - accuracy: 0.8305 - val_loss: 0.3810 - val_accuracy: 0.8500\n",
      "Epoch 10/125\n",
      "128/128 [==============================] - 0s 3ms/step - loss: 0.4007 - accuracy: 0.8280 - val_loss: 0.3760 - val_accuracy: 0.8537\n",
      "Epoch 11/125\n",
      "128/128 [==============================] - 0s 4ms/step - loss: 0.3982 - accuracy: 0.8323 - val_loss: 0.3729 - val_accuracy: 0.8512\n",
      "Epoch 12/125\n",
      "128/128 [==============================] - 0s 3ms/step - loss: 0.3829 - accuracy: 0.8367 - val_loss: 0.3681 - val_accuracy: 0.8525\n",
      "Epoch 13/125\n",
      "128/128 [==============================] - 0s 3ms/step - loss: 0.3837 - accuracy: 0.8405 - val_loss: 0.3666 - val_accuracy: 0.8550\n",
      "Epoch 14/125\n",
      "128/128 [==============================] - 0s 4ms/step - loss: 0.3835 - accuracy: 0.8398 - val_loss: 0.3685 - val_accuracy: 0.8531\n",
      "Epoch 15/125\n",
      "128/128 [==============================] - 1s 4ms/step - loss: 0.3767 - accuracy: 0.8434 - val_loss: 0.3642 - val_accuracy: 0.8525\n",
      "Epoch 16/125\n",
      "128/128 [==============================] - 0s 4ms/step - loss: 0.3742 - accuracy: 0.8448 - val_loss: 0.3632 - val_accuracy: 0.8519\n",
      "Epoch 17/125\n",
      "128/128 [==============================] - 0s 3ms/step - loss: 0.3766 - accuracy: 0.8436 - val_loss: 0.3610 - val_accuracy: 0.8525\n",
      "Epoch 18/125\n",
      "128/128 [==============================] - 0s 3ms/step - loss: 0.3720 - accuracy: 0.8480 - val_loss: 0.3608 - val_accuracy: 0.8525\n",
      "Epoch 19/125\n",
      "128/128 [==============================] - 0s 3ms/step - loss: 0.3750 - accuracy: 0.8436 - val_loss: 0.3612 - val_accuracy: 0.8525\n",
      "Epoch 20/125\n",
      "128/128 [==============================] - 0s 3ms/step - loss: 0.3693 - accuracy: 0.8472 - val_loss: 0.3602 - val_accuracy: 0.8537\n",
      "Epoch 21/125\n",
      "128/128 [==============================] - 0s 3ms/step - loss: 0.3676 - accuracy: 0.8481 - val_loss: 0.3590 - val_accuracy: 0.8544\n",
      "Epoch 22/125\n",
      "128/128 [==============================] - 0s 3ms/step - loss: 0.3712 - accuracy: 0.8491 - val_loss: 0.3584 - val_accuracy: 0.8550\n",
      "Epoch 23/125\n",
      "128/128 [==============================] - 0s 3ms/step - loss: 0.3693 - accuracy: 0.8503 - val_loss: 0.3575 - val_accuracy: 0.8562\n",
      "Epoch 24/125\n",
      "128/128 [==============================] - 0s 3ms/step - loss: 0.3707 - accuracy: 0.8486 - val_loss: 0.3596 - val_accuracy: 0.8525\n",
      "Epoch 25/125\n",
      "128/128 [==============================] - 0s 3ms/step - loss: 0.3614 - accuracy: 0.8517 - val_loss: 0.3585 - val_accuracy: 0.8537\n",
      "Epoch 26/125\n",
      "128/128 [==============================] - 0s 3ms/step - loss: 0.3633 - accuracy: 0.8530 - val_loss: 0.3570 - val_accuracy: 0.8537\n",
      "Epoch 27/125\n",
      "128/128 [==============================] - 0s 3ms/step - loss: 0.3593 - accuracy: 0.8530 - val_loss: 0.3563 - val_accuracy: 0.8537\n",
      "Epoch 28/125\n",
      "128/128 [==============================] - 0s 3ms/step - loss: 0.3624 - accuracy: 0.8552 - val_loss: 0.3577 - val_accuracy: 0.8575\n",
      "Epoch 29/125\n",
      "128/128 [==============================] - 0s 3ms/step - loss: 0.3575 - accuracy: 0.8555 - val_loss: 0.3584 - val_accuracy: 0.8537\n",
      "Epoch 30/125\n",
      "128/128 [==============================] - 0s 3ms/step - loss: 0.3613 - accuracy: 0.8544 - val_loss: 0.3575 - val_accuracy: 0.8569\n",
      "Epoch 31/125\n",
      "128/128 [==============================] - 0s 3ms/step - loss: 0.3602 - accuracy: 0.8553 - val_loss: 0.3561 - val_accuracy: 0.8556\n",
      "Epoch 32/125\n",
      "128/128 [==============================] - 0s 3ms/step - loss: 0.3590 - accuracy: 0.8555 - val_loss: 0.3554 - val_accuracy: 0.8537\n",
      "Epoch 33/125\n",
      "128/128 [==============================] - 0s 3ms/step - loss: 0.3529 - accuracy: 0.8533 - val_loss: 0.3551 - val_accuracy: 0.8544\n",
      "Epoch 34/125\n",
      "128/128 [==============================] - 0s 3ms/step - loss: 0.3570 - accuracy: 0.8575 - val_loss: 0.3539 - val_accuracy: 0.8537\n",
      "Epoch 35/125\n",
      "128/128 [==============================] - 0s 3ms/step - loss: 0.3575 - accuracy: 0.8552 - val_loss: 0.3555 - val_accuracy: 0.8544\n",
      "Epoch 36/125\n",
      "128/128 [==============================] - 0s 3ms/step - loss: 0.3481 - accuracy: 0.8559 - val_loss: 0.3559 - val_accuracy: 0.8537\n",
      "Epoch 37/125\n",
      "128/128 [==============================] - 0s 3ms/step - loss: 0.3553 - accuracy: 0.8548 - val_loss: 0.3567 - val_accuracy: 0.8544\n",
      "Epoch 38/125\n",
      "128/128 [==============================] - 0s 3ms/step - loss: 0.3529 - accuracy: 0.8569 - val_loss: 0.3565 - val_accuracy: 0.8525\n",
      "Epoch 39/125\n",
      "128/128 [==============================] - 0s 3ms/step - loss: 0.3538 - accuracy: 0.8561 - val_loss: 0.3563 - val_accuracy: 0.8550\n",
      "Epoch 40/125\n",
      "128/128 [==============================] - 0s 3ms/step - loss: 0.3499 - accuracy: 0.8552 - val_loss: 0.3544 - val_accuracy: 0.8562\n",
      "Epoch 41/125\n",
      "128/128 [==============================] - 0s 3ms/step - loss: 0.3524 - accuracy: 0.8566 - val_loss: 0.3533 - val_accuracy: 0.8537\n",
      "Epoch 42/125\n",
      "128/128 [==============================] - 0s 3ms/step - loss: 0.3458 - accuracy: 0.8573 - val_loss: 0.3553 - val_accuracy: 0.8544\n",
      "Epoch 43/125\n",
      "128/128 [==============================] - 0s 4ms/step - loss: 0.3503 - accuracy: 0.8584 - val_loss: 0.3550 - val_accuracy: 0.8569\n",
      "Epoch 44/125\n",
      "128/128 [==============================] - 0s 3ms/step - loss: 0.3460 - accuracy: 0.8603 - val_loss: 0.3546 - val_accuracy: 0.8544\n",
      "Epoch 45/125\n",
      "128/128 [==============================] - 0s 3ms/step - loss: 0.3453 - accuracy: 0.8586 - val_loss: 0.3523 - val_accuracy: 0.8544\n",
      "Epoch 46/125\n",
      "128/128 [==============================] - 0s 3ms/step - loss: 0.3490 - accuracy: 0.8578 - val_loss: 0.3540 - val_accuracy: 0.8575\n",
      "Epoch 47/125\n",
      "128/128 [==============================] - 0s 3ms/step - loss: 0.3522 - accuracy: 0.8562 - val_loss: 0.3545 - val_accuracy: 0.8575\n",
      "Epoch 48/125\n",
      "128/128 [==============================] - 0s 3ms/step - loss: 0.3498 - accuracy: 0.8608 - val_loss: 0.3534 - val_accuracy: 0.8587\n",
      "Epoch 49/125\n",
      "128/128 [==============================] - 0s 3ms/step - loss: 0.3433 - accuracy: 0.8637 - val_loss: 0.3537 - val_accuracy: 0.8537\n",
      "Epoch 50/125\n",
      "128/128 [==============================] - 0s 3ms/step - loss: 0.3468 - accuracy: 0.8595 - val_loss: 0.3529 - val_accuracy: 0.8550\n",
      "Epoch 51/125\n",
      "128/128 [==============================] - 0s 3ms/step - loss: 0.3453 - accuracy: 0.8609 - val_loss: 0.3523 - val_accuracy: 0.8556\n",
      "Epoch 52/125\n",
      "128/128 [==============================] - 0s 3ms/step - loss: 0.3442 - accuracy: 0.8583 - val_loss: 0.3521 - val_accuracy: 0.8537\n",
      "Epoch 53/125\n",
      "128/128 [==============================] - 0s 3ms/step - loss: 0.3437 - accuracy: 0.8614 - val_loss: 0.3530 - val_accuracy: 0.8512\n",
      "Epoch 54/125\n",
      "128/128 [==============================] - 0s 3ms/step - loss: 0.3438 - accuracy: 0.8609 - val_loss: 0.3534 - val_accuracy: 0.8519\n",
      "Epoch 55/125\n",
      "128/128 [==============================] - 0s 3ms/step - loss: 0.3465 - accuracy: 0.8616 - val_loss: 0.3541 - val_accuracy: 0.8487\n",
      "Epoch 56/125\n",
      "128/128 [==============================] - 0s 3ms/step - loss: 0.3440 - accuracy: 0.8606 - val_loss: 0.3545 - val_accuracy: 0.8512\n",
      "Epoch 57/125\n",
      "128/128 [==============================] - 0s 3ms/step - loss: 0.3442 - accuracy: 0.8605 - val_loss: 0.3529 - val_accuracy: 0.8550\n",
      "Epoch 58/125\n",
      "128/128 [==============================] - 0s 3ms/step - loss: 0.3396 - accuracy: 0.8641 - val_loss: 0.3540 - val_accuracy: 0.8550\n",
      "Epoch 59/125\n",
      "128/128 [==============================] - 0s 3ms/step - loss: 0.3435 - accuracy: 0.8617 - val_loss: 0.3554 - val_accuracy: 0.8531\n",
      "Epoch 60/125\n",
      "128/128 [==============================] - 0s 3ms/step - loss: 0.3408 - accuracy: 0.8609 - val_loss: 0.3557 - val_accuracy: 0.8525\n",
      "Epoch 61/125\n",
      "128/128 [==============================] - 0s 3ms/step - loss: 0.3438 - accuracy: 0.8580 - val_loss: 0.3540 - val_accuracy: 0.8562\n",
      "Epoch 62/125\n",
      "128/128 [==============================] - 0s 3ms/step - loss: 0.3440 - accuracy: 0.8591 - val_loss: 0.3534 - val_accuracy: 0.8556\n",
      "Epoch 63/125\n",
      "128/128 [==============================] - 0s 3ms/step - loss: 0.3417 - accuracy: 0.8603 - val_loss: 0.3574 - val_accuracy: 0.8544\n",
      "Epoch 64/125\n",
      "128/128 [==============================] - 0s 3ms/step - loss: 0.3431 - accuracy: 0.8617 - val_loss: 0.3554 - val_accuracy: 0.8556\n",
      "Epoch 65/125\n",
      "128/128 [==============================] - 0s 3ms/step - loss: 0.3356 - accuracy: 0.8623 - val_loss: 0.3550 - val_accuracy: 0.8537\n",
      "Epoch 66/125\n",
      "128/128 [==============================] - 0s 4ms/step - loss: 0.3400 - accuracy: 0.8636 - val_loss: 0.3549 - val_accuracy: 0.8525\n",
      "Epoch 67/125\n",
      "128/128 [==============================] - 0s 3ms/step - loss: 0.3414 - accuracy: 0.8612 - val_loss: 0.3543 - val_accuracy: 0.8569\n",
      "Epoch 68/125\n",
      "128/128 [==============================] - 0s 3ms/step - loss: 0.3440 - accuracy: 0.8597 - val_loss: 0.3568 - val_accuracy: 0.8544\n",
      "Epoch 69/125\n",
      "128/128 [==============================] - 0s 3ms/step - loss: 0.3394 - accuracy: 0.8619 - val_loss: 0.3581 - val_accuracy: 0.8562\n",
      "Epoch 70/125\n",
      "128/128 [==============================] - 0s 3ms/step - loss: 0.3436 - accuracy: 0.8630 - val_loss: 0.3567 - val_accuracy: 0.8537\n",
      "Epoch 71/125\n",
      "128/128 [==============================] - 0s 3ms/step - loss: 0.3394 - accuracy: 0.8608 - val_loss: 0.3561 - val_accuracy: 0.8544\n",
      "Epoch 72/125\n",
      "128/128 [==============================] - 0s 3ms/step - loss: 0.3376 - accuracy: 0.8617 - val_loss: 0.3543 - val_accuracy: 0.8569\n",
      "Epoch 73/125\n",
      "128/128 [==============================] - 0s 3ms/step - loss: 0.3376 - accuracy: 0.8642 - val_loss: 0.3545 - val_accuracy: 0.8575\n",
      "Epoch 74/125\n",
      "128/128 [==============================] - 0s 3ms/step - loss: 0.3358 - accuracy: 0.8612 - val_loss: 0.3551 - val_accuracy: 0.8556\n",
      "Epoch 75/125\n",
      "128/128 [==============================] - 0s 3ms/step - loss: 0.3326 - accuracy: 0.8641 - val_loss: 0.3550 - val_accuracy: 0.8537\n",
      "Epoch 76/125\n",
      "128/128 [==============================] - 0s 3ms/step - loss: 0.3368 - accuracy: 0.8633 - val_loss: 0.3551 - val_accuracy: 0.8525\n",
      "Epoch 77/125\n",
      "128/128 [==============================] - 0s 3ms/step - loss: 0.3346 - accuracy: 0.8631 - val_loss: 0.3577 - val_accuracy: 0.8512\n",
      "Epoch 78/125\n",
      "128/128 [==============================] - 0s 3ms/step - loss: 0.3351 - accuracy: 0.8637 - val_loss: 0.3571 - val_accuracy: 0.8575\n",
      "Epoch 79/125\n",
      "128/128 [==============================] - 0s 3ms/step - loss: 0.3362 - accuracy: 0.8608 - val_loss: 0.3579 - val_accuracy: 0.8544\n",
      "Epoch 80/125\n",
      "128/128 [==============================] - 0s 3ms/step - loss: 0.3367 - accuracy: 0.8628 - val_loss: 0.3573 - val_accuracy: 0.8525\n",
      "Epoch 81/125\n",
      "128/128 [==============================] - 0s 3ms/step - loss: 0.3310 - accuracy: 0.8655 - val_loss: 0.3605 - val_accuracy: 0.8512\n",
      "Epoch 82/125\n",
      "128/128 [==============================] - 0s 3ms/step - loss: 0.3325 - accuracy: 0.8631 - val_loss: 0.3594 - val_accuracy: 0.8562\n",
      "Epoch 83/125\n",
      "128/128 [==============================] - 0s 3ms/step - loss: 0.3347 - accuracy: 0.8644 - val_loss: 0.3551 - val_accuracy: 0.8531\n",
      "Epoch 84/125\n",
      "128/128 [==============================] - 0s 3ms/step - loss: 0.3301 - accuracy: 0.8627 - val_loss: 0.3545 - val_accuracy: 0.8544\n",
      "Epoch 85/125\n",
      "128/128 [==============================] - 0s 3ms/step - loss: 0.3283 - accuracy: 0.8647 - val_loss: 0.3550 - val_accuracy: 0.8575\n",
      "Epoch 86/125\n",
      "128/128 [==============================] - 0s 3ms/step - loss: 0.3351 - accuracy: 0.8628 - val_loss: 0.3559 - val_accuracy: 0.8544\n",
      "Epoch 87/125\n",
      "128/128 [==============================] - 0s 4ms/step - loss: 0.3350 - accuracy: 0.8608 - val_loss: 0.3554 - val_accuracy: 0.8562\n",
      "Epoch 88/125\n",
      "128/128 [==============================] - 0s 4ms/step - loss: 0.3306 - accuracy: 0.8650 - val_loss: 0.3559 - val_accuracy: 0.8519\n",
      "Epoch 89/125\n",
      "128/128 [==============================] - 0s 4ms/step - loss: 0.3339 - accuracy: 0.8609 - val_loss: 0.3550 - val_accuracy: 0.8562\n",
      "Epoch 90/125\n",
      "128/128 [==============================] - 0s 3ms/step - loss: 0.3352 - accuracy: 0.8600 - val_loss: 0.3557 - val_accuracy: 0.8512\n",
      "Epoch 91/125\n",
      "128/128 [==============================] - 0s 3ms/step - loss: 0.3356 - accuracy: 0.8622 - val_loss: 0.3545 - val_accuracy: 0.8525\n",
      "Epoch 92/125\n",
      "128/128 [==============================] - 0s 3ms/step - loss: 0.3308 - accuracy: 0.8608 - val_loss: 0.3561 - val_accuracy: 0.8519\n",
      "Epoch 93/125\n",
      "128/128 [==============================] - 0s 3ms/step - loss: 0.3305 - accuracy: 0.8645 - val_loss: 0.3569 - val_accuracy: 0.8500\n",
      "Epoch 94/125\n",
      "128/128 [==============================] - 0s 3ms/step - loss: 0.3281 - accuracy: 0.8641 - val_loss: 0.3552 - val_accuracy: 0.8487\n",
      "Epoch 95/125\n",
      "128/128 [==============================] - 0s 3ms/step - loss: 0.3331 - accuracy: 0.8659 - val_loss: 0.3552 - val_accuracy: 0.8525\n",
      "Epoch 96/125\n",
      "128/128 [==============================] - 0s 3ms/step - loss: 0.3270 - accuracy: 0.8642 - val_loss: 0.3561 - val_accuracy: 0.8512\n",
      "Epoch 97/125\n",
      "128/128 [==============================] - 0s 3ms/step - loss: 0.3293 - accuracy: 0.8637 - val_loss: 0.3586 - val_accuracy: 0.8537\n",
      "Epoch 98/125\n",
      "128/128 [==============================] - 0s 3ms/step - loss: 0.3290 - accuracy: 0.8677 - val_loss: 0.3539 - val_accuracy: 0.8519\n",
      "Epoch 99/125\n",
      "128/128 [==============================] - 0s 3ms/step - loss: 0.3295 - accuracy: 0.8648 - val_loss: 0.3570 - val_accuracy: 0.8525\n",
      "Epoch 100/125\n",
      "128/128 [==============================] - 0s 3ms/step - loss: 0.3427 - accuracy: 0.8620 - val_loss: 0.3549 - val_accuracy: 0.8575\n",
      "Epoch 101/125\n",
      "128/128 [==============================] - 0s 3ms/step - loss: 0.3305 - accuracy: 0.8630 - val_loss: 0.3548 - val_accuracy: 0.8556\n",
      "Epoch 102/125\n",
      "128/128 [==============================] - 0s 3ms/step - loss: 0.3310 - accuracy: 0.8600 - val_loss: 0.3565 - val_accuracy: 0.8500\n",
      "Epoch 103/125\n",
      "128/128 [==============================] - 0s 3ms/step - loss: 0.3337 - accuracy: 0.8631 - val_loss: 0.3572 - val_accuracy: 0.8512\n",
      "Epoch 104/125\n",
      "128/128 [==============================] - 0s 3ms/step - loss: 0.3343 - accuracy: 0.8597 - val_loss: 0.3579 - val_accuracy: 0.8525\n",
      "Epoch 105/125\n",
      "128/128 [==============================] - 0s 3ms/step - loss: 0.3292 - accuracy: 0.8636 - val_loss: 0.3570 - val_accuracy: 0.8512\n",
      "Epoch 106/125\n",
      "128/128 [==============================] - 0s 3ms/step - loss: 0.3336 - accuracy: 0.8609 - val_loss: 0.3560 - val_accuracy: 0.8544\n",
      "Epoch 107/125\n",
      "128/128 [==============================] - 0s 3ms/step - loss: 0.3307 - accuracy: 0.8647 - val_loss: 0.3594 - val_accuracy: 0.8537\n",
      "Epoch 108/125\n",
      "128/128 [==============================] - 0s 3ms/step - loss: 0.3272 - accuracy: 0.8656 - val_loss: 0.3586 - val_accuracy: 0.8556\n",
      "Epoch 109/125\n",
      "128/128 [==============================] - 0s 3ms/step - loss: 0.3302 - accuracy: 0.8644 - val_loss: 0.3569 - val_accuracy: 0.8587\n",
      "Epoch 110/125\n",
      "128/128 [==============================] - 0s 3ms/step - loss: 0.3299 - accuracy: 0.8655 - val_loss: 0.3581 - val_accuracy: 0.8537\n",
      "Epoch 111/125\n",
      "128/128 [==============================] - 0s 3ms/step - loss: 0.3351 - accuracy: 0.8637 - val_loss: 0.3579 - val_accuracy: 0.8531\n",
      "Epoch 112/125\n",
      "128/128 [==============================] - 0s 3ms/step - loss: 0.3262 - accuracy: 0.8664 - val_loss: 0.3574 - val_accuracy: 0.8512\n",
      "Epoch 113/125\n",
      "128/128 [==============================] - 0s 3ms/step - loss: 0.3290 - accuracy: 0.8603 - val_loss: 0.3582 - val_accuracy: 0.8506\n",
      "Epoch 114/125\n",
      "128/128 [==============================] - 0s 3ms/step - loss: 0.3284 - accuracy: 0.8670 - val_loss: 0.3586 - val_accuracy: 0.8531\n",
      "Epoch 115/125\n",
      "128/128 [==============================] - 0s 3ms/step - loss: 0.3279 - accuracy: 0.8681 - val_loss: 0.3566 - val_accuracy: 0.8494\n",
      "Epoch 116/125\n",
      "128/128 [==============================] - 0s 3ms/step - loss: 0.3252 - accuracy: 0.8609 - val_loss: 0.3591 - val_accuracy: 0.8506\n",
      "Epoch 117/125\n",
      "128/128 [==============================] - 0s 3ms/step - loss: 0.3267 - accuracy: 0.8642 - val_loss: 0.3567 - val_accuracy: 0.8531\n",
      "Epoch 118/125\n",
      "128/128 [==============================] - 0s 3ms/step - loss: 0.3271 - accuracy: 0.8658 - val_loss: 0.3581 - val_accuracy: 0.8525\n",
      "Epoch 119/125\n",
      "128/128 [==============================] - 0s 3ms/step - loss: 0.3268 - accuracy: 0.8644 - val_loss: 0.3563 - val_accuracy: 0.8537\n",
      "Epoch 120/125\n",
      "128/128 [==============================] - 0s 3ms/step - loss: 0.3250 - accuracy: 0.8672 - val_loss: 0.3583 - val_accuracy: 0.8544\n",
      "Epoch 121/125\n",
      "128/128 [==============================] - 0s 3ms/step - loss: 0.3266 - accuracy: 0.8639 - val_loss: 0.3586 - val_accuracy: 0.8537\n",
      "Epoch 122/125\n",
      "128/128 [==============================] - 0s 3ms/step - loss: 0.3261 - accuracy: 0.8636 - val_loss: 0.3591 - val_accuracy: 0.8537\n",
      "Epoch 123/125\n",
      "128/128 [==============================] - 0s 3ms/step - loss: 0.3259 - accuracy: 0.8667 - val_loss: 0.3560 - val_accuracy: 0.8531\n",
      "Epoch 124/125\n",
      "128/128 [==============================] - 0s 3ms/step - loss: 0.3194 - accuracy: 0.8661 - val_loss: 0.3587 - val_accuracy: 0.8550\n",
      "Epoch 125/125\n",
      "128/128 [==============================] - 0s 3ms/step - loss: 0.3267 - accuracy: 0.8631 - val_loss: 0.3583 - val_accuracy: 0.8519\n"
     ]
    }
   ],
   "source": [
    "model.compile(optimizer='Adam',loss='binary_crossentropy',metrics=['accuracy'])\n",
    "history = model.fit(xtrain_ft,ytrain,batch_size=50,epochs=125,verbose=1,validation_split=0.2)"
   ]
  },
  {
   "cell_type": "code",
   "execution_count": 11,
   "id": "cec51e26",
   "metadata": {
    "execution": {
     "iopub.execute_input": "2023-12-24T02:29:55.941892Z",
     "iopub.status.busy": "2023-12-24T02:29:55.940974Z",
     "iopub.status.idle": "2023-12-24T02:29:55.950004Z",
     "shell.execute_reply": "2023-12-24T02:29:55.948935Z"
    },
    "papermill": {
     "duration": 0.153484,
     "end_time": "2023-12-24T02:29:55.952118",
     "exception": false,
     "start_time": "2023-12-24T02:29:55.798634",
     "status": "completed"
    },
    "tags": []
   },
   "outputs": [],
   "source": [
    "def evaluate_and_plot(model, x_test, y_test, history):\n",
    "    # Predictions\n",
    "    y_pred_prob = model.predict(x_test)\n",
    "    y_pred = (y_pred_prob > 0.5).astype(int)\n",
    "\n",
    "    # Accuracy\n",
    "    accuracy = accuracy_score(y_test, y_pred)\n",
    "    print(\"Accuracy:\", accuracy)\n",
    "\n",
    "    # Plotting training history\n",
    "    plt.figure(figsize=(12, 4))\n",
    "\n",
    "    # Plot training and validation loss\n",
    "    plt.subplot(1, 2, 1)\n",
    "    plt.plot(history.history['loss'], label='Training Loss')\n",
    "    plt.plot(history.history['val_loss'], label='Validation Loss')\n",
    "    plt.title('Training and Validation Loss')\n",
    "    plt.xlabel('Epoch')\n",
    "    plt.ylabel('Loss')\n",
    "    plt.legend()\n",
    "\n",
    "    # Plot training and validation accuracy\n",
    "    plt.subplot(1, 2, 2)\n",
    "    plt.plot(history.history['accuracy'], label='Training Accuracy')\n",
    "    plt.plot(history.history['val_accuracy'], label='Validation Accuracy')\n",
    "    plt.title('Training and Validation Accuracy')\n",
    "    plt.xlabel('Epoch')\n",
    "    plt.ylabel('Accuracy')\n",
    "    plt.legend()\n",
    "\n",
    "    plt.show()\n",
    "\n",
    "    return accuracy"
   ]
  },
  {
   "cell_type": "code",
   "execution_count": 12,
   "id": "9b367339",
   "metadata": {
    "execution": {
     "iopub.execute_input": "2023-12-24T02:29:56.144257Z",
     "iopub.status.busy": "2023-12-24T02:29:56.143916Z",
     "iopub.status.idle": "2023-12-24T02:29:56.945653Z",
     "shell.execute_reply": "2023-12-24T02:29:56.944699Z"
    },
    "papermill": {
     "duration": 0.898602,
     "end_time": "2023-12-24T02:29:56.947968",
     "exception": false,
     "start_time": "2023-12-24T02:29:56.049366",
     "status": "completed"
    },
    "tags": []
   },
   "outputs": [
    {
     "name": "stdout",
     "output_type": "stream",
     "text": [
      "63/63 [==============================] - 0s 1ms/step\n",
      "Accuracy: 0.859\n"
     ]
    },
    {
     "data": {
      "image/png": "[encoded data removed]",
      "text/plain": [
       "<Figure size 1200x400 with 2 Axes>"
      ]
     },
     "metadata": {},
     "output_type": "display_data"
    }
   ],
   "source": [
    "accuracy = evaluate_and_plot(model, xtest_t, ytest, history)"
   ]
  }
 ],
 "metadata": {
  "kaggle": {
   "accelerator": "nvidiaTeslaT4",
   "dataSources": [
    {
     "datasetId": 869651,
     "sourceId": 1481789,
     "sourceType": "datasetVersion"
    }
   ],
   "dockerImageVersionId": 30627,
   "isGpuEnabled": true,
   "isInternetEnabled": true,
   "language": "python",
   "sourceType": "notebook"
  },
  "kernelspec": {
   "display_name": "Python 3",
   "language": "python",
   "name": "python3"
  },
  "language_info": {
   "codemirror_mode": {
    "name": "ipython",
    "version": 3
   },
   "file_extension": ".py",
   "mimetype": "text/x-python",
   "name": "python",
   "nbconvert_exporter": "python",
   "pygments_lexer": "ipython3",
   "version": "3.10.12"
  },
  "papermill": {
   "default_parameters": {},
   "duration": 86.636661,
   "end_time": "2023-12-24T02:30:00.360398",
   "environment_variables": {},
   "exception": null,
   "input_path": "__notebook__.ipynb",
   "output_path": "__notebook__.ipynb",
   "parameters": {},
   "start_time": "2023-12-24T02:28:33.723737",
   "version": "2.4.0"
  }
 },
 "nbformat": 4,
 "nbformat_minor": 5
}
